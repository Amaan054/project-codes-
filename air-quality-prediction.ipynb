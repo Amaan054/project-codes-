{
 "cells": [
  {
   "cell_type": "code",
   "execution_count": 1,
   "id": "fe65f460",
   "metadata": {
    "execution": {
     "iopub.execute_input": "2022-03-31T11:19:12.847620Z",
     "iopub.status.busy": "2022-03-31T11:19:12.846431Z",
     "iopub.status.idle": "2022-03-31T11:19:12.849324Z",
     "shell.execute_reply": "2022-03-31T11:19:12.849813Z",
     "shell.execute_reply.started": "2022-03-31T11:10:50.168405Z"
    },
    "papermill": {
     "duration": 0.090048,
     "end_time": "2022-03-31T11:19:12.850107",
     "exception": false,
     "start_time": "2022-03-31T11:19:12.760059",
     "status": "completed"
    },
    "tags": []
   },
   "outputs": [],
   "source": [
    "# Importing necessary libraries"
   ]
  },
  {
   "cell_type": "code",
   "execution_count": 2,
   "id": "6228266f",
   "metadata": {
    "execution": {
     "iopub.execute_input": "2022-03-31T11:19:13.013589Z",
     "iopub.status.busy": "2022-03-31T11:19:13.012911Z",
     "iopub.status.idle": "2022-03-31T11:19:14.502767Z",
     "shell.execute_reply": "2022-03-31T11:19:14.501981Z",
     "shell.execute_reply.started": "2022-03-31T11:10:50.191155Z"
    },
    "papermill": {
     "duration": 1.572637,
     "end_time": "2022-03-31T11:19:14.502931",
     "exception": false,
     "start_time": "2022-03-31T11:19:12.930294",
     "status": "completed"
    },
    "tags": []
   },
   "outputs": [],
   "source": [
    "import pandas as pd\n",
    "import numpy as np\n",
    "import seaborn as sns\n",
    "import matplotlib.pyplot as plt\n",
    "import warnings\n",
    "warnings.filterwarnings(\"ignore\")\n",
    "\n",
    "from sklearn.preprocessing import LabelEncoder\n",
    "from sklearn.model_selection import train_test_split\n",
    "from sklearn.tree import DecisionTreeRegressor\n",
    "from sklearn import metrics\n",
    "from sklearn.metrics import mean_absolute_error,mean_squared_error,r2_score\n",
    "from sklearn.metrics import accuracy_score,confusion_matrix"
   ]
  },
  {
   "cell_type": "code",
   "execution_count": 3,
   "id": "d0fa80c9",
   "metadata": {
    "execution": {
     "iopub.execute_input": "2022-03-31T11:19:14.664117Z",
     "iopub.status.busy": "2022-03-31T11:19:14.663452Z",
     "iopub.status.idle": "2022-03-31T11:19:16.599485Z",
     "shell.execute_reply": "2022-03-31T11:19:16.600008Z",
     "shell.execute_reply.started": "2022-03-31T11:10:51.535945Z"
    },
    "papermill": {
     "duration": 2.018932,
     "end_time": "2022-03-31T11:19:16.600192",
     "exception": false,
     "start_time": "2022-03-31T11:19:14.581260",
     "status": "completed"
    },
    "tags": []
   },
   "outputs": [],
   "source": [
    "df=pd.read_csv(\"C:\\\\Users\\\\Lenovo\\\\JUPYTER\\\\data.csv\",encoding='unicode_escape')\n",
    "# Reading the dataset"
   ]
  },
  {
   "cell_type": "markdown",
   "id": "86f33bbb",
   "metadata": {
    "papermill": {
     "duration": 0.078248,
     "end_time": "2022-03-31T11:19:16.757597",
     "exception": false,
     "start_time": "2022-03-31T11:19:16.679349",
     "status": "completed"
    },
    "tags": []
   },
   "source": [
    "## Data Understanding"
   ]
  },
  {
   "cell_type": "code",
   "execution_count": 4,
   "id": "6a9f2262",
   "metadata": {
    "execution": {
     "iopub.execute_input": "2022-03-31T11:19:16.923141Z",
     "iopub.status.busy": "2022-03-31T11:19:16.922105Z",
     "iopub.status.idle": "2022-03-31T11:19:16.943718Z",
     "shell.execute_reply": "2022-03-31T11:19:16.944253Z",
     "shell.execute_reply.started": "2022-03-31T11:10:53.174510Z"
    },
    "papermill": {
     "duration": 0.108817,
     "end_time": "2022-03-31T11:19:16.944429",
     "exception": false,
     "start_time": "2022-03-31T11:19:16.835612",
     "status": "completed"
    },
    "tags": []
   },
   "outputs": [
    {
     "data": {
      "text/html": [
       "<div>\n",
       "<style scoped>\n",
       "    .dataframe tbody tr th:only-of-type {\n",
       "        vertical-align: middle;\n",
       "    }\n",
       "\n",
       "    .dataframe tbody tr th {\n",
       "        vertical-align: top;\n",
       "    }\n",
       "\n",
       "    .dataframe thead th {\n",
       "        text-align: right;\n",
       "    }\n",
       "</style>\n",
       "<table border=\"1\" class=\"dataframe\">\n",
       "  <thead>\n",
       "    <tr style=\"text-align: right;\">\n",
       "      <th></th>\n",
       "      <th>stn_code</th>\n",
       "      <th>sampling_date</th>\n",
       "      <th>state</th>\n",
       "      <th>location</th>\n",
       "      <th>agency</th>\n",
       "      <th>type</th>\n",
       "      <th>so2</th>\n",
       "      <th>no2</th>\n",
       "      <th>rspm</th>\n",
       "      <th>spm</th>\n",
       "      <th>location_monitoring_station</th>\n",
       "      <th>pm2_5</th>\n",
       "      <th>date</th>\n",
       "    </tr>\n",
       "  </thead>\n",
       "  <tbody>\n",
       "    <tr>\n",
       "      <th>0</th>\n",
       "      <td>150.0</td>\n",
       "      <td>February - M021990</td>\n",
       "      <td>Andhra Pradesh</td>\n",
       "      <td>Hyderabad</td>\n",
       "      <td>NaN</td>\n",
       "      <td>Residential, Rural and other Areas</td>\n",
       "      <td>4.8</td>\n",
       "      <td>17.4</td>\n",
       "      <td>NaN</td>\n",
       "      <td>NaN</td>\n",
       "      <td>NaN</td>\n",
       "      <td>NaN</td>\n",
       "      <td>1990-02-01</td>\n",
       "    </tr>\n",
       "    <tr>\n",
       "      <th>1</th>\n",
       "      <td>151.0</td>\n",
       "      <td>February - M021990</td>\n",
       "      <td>Andhra Pradesh</td>\n",
       "      <td>Hyderabad</td>\n",
       "      <td>NaN</td>\n",
       "      <td>Industrial Area</td>\n",
       "      <td>3.1</td>\n",
       "      <td>7.0</td>\n",
       "      <td>NaN</td>\n",
       "      <td>NaN</td>\n",
       "      <td>NaN</td>\n",
       "      <td>NaN</td>\n",
       "      <td>1990-02-01</td>\n",
       "    </tr>\n",
       "    <tr>\n",
       "      <th>2</th>\n",
       "      <td>152.0</td>\n",
       "      <td>February - M021990</td>\n",
       "      <td>Andhra Pradesh</td>\n",
       "      <td>Hyderabad</td>\n",
       "      <td>NaN</td>\n",
       "      <td>Residential, Rural and other Areas</td>\n",
       "      <td>6.2</td>\n",
       "      <td>28.5</td>\n",
       "      <td>NaN</td>\n",
       "      <td>NaN</td>\n",
       "      <td>NaN</td>\n",
       "      <td>NaN</td>\n",
       "      <td>1990-02-01</td>\n",
       "    </tr>\n",
       "    <tr>\n",
       "      <th>3</th>\n",
       "      <td>150.0</td>\n",
       "      <td>March - M031990</td>\n",
       "      <td>Andhra Pradesh</td>\n",
       "      <td>Hyderabad</td>\n",
       "      <td>NaN</td>\n",
       "      <td>Residential, Rural and other Areas</td>\n",
       "      <td>6.3</td>\n",
       "      <td>14.7</td>\n",
       "      <td>NaN</td>\n",
       "      <td>NaN</td>\n",
       "      <td>NaN</td>\n",
       "      <td>NaN</td>\n",
       "      <td>1990-03-01</td>\n",
       "    </tr>\n",
       "    <tr>\n",
       "      <th>4</th>\n",
       "      <td>151.0</td>\n",
       "      <td>March - M031990</td>\n",
       "      <td>Andhra Pradesh</td>\n",
       "      <td>Hyderabad</td>\n",
       "      <td>NaN</td>\n",
       "      <td>Industrial Area</td>\n",
       "      <td>4.7</td>\n",
       "      <td>7.5</td>\n",
       "      <td>NaN</td>\n",
       "      <td>NaN</td>\n",
       "      <td>NaN</td>\n",
       "      <td>NaN</td>\n",
       "      <td>1990-03-01</td>\n",
       "    </tr>\n",
       "  </tbody>\n",
       "</table>\n",
       "</div>"
      ],
      "text/plain": [
       "  stn_code       sampling_date           state   location agency  \\\n",
       "0    150.0  February - M021990  Andhra Pradesh  Hyderabad    NaN   \n",
       "1    151.0  February - M021990  Andhra Pradesh  Hyderabad    NaN   \n",
       "2    152.0  February - M021990  Andhra Pradesh  Hyderabad    NaN   \n",
       "3    150.0     March - M031990  Andhra Pradesh  Hyderabad    NaN   \n",
       "4    151.0     March - M031990  Andhra Pradesh  Hyderabad    NaN   \n",
       "\n",
       "                                 type  so2   no2  rspm  spm  \\\n",
       "0  Residential, Rural and other Areas  4.8  17.4   NaN  NaN   \n",
       "1                     Industrial Area  3.1   7.0   NaN  NaN   \n",
       "2  Residential, Rural and other Areas  6.2  28.5   NaN  NaN   \n",
       "3  Residential, Rural and other Areas  6.3  14.7   NaN  NaN   \n",
       "4                     Industrial Area  4.7   7.5   NaN  NaN   \n",
       "\n",
       "  location_monitoring_station  pm2_5        date  \n",
       "0                         NaN    NaN  1990-02-01  \n",
       "1                         NaN    NaN  1990-02-01  \n",
       "2                         NaN    NaN  1990-02-01  \n",
       "3                         NaN    NaN  1990-03-01  \n",
       "4                         NaN    NaN  1990-03-01  "
      ]
     },
     "execution_count": 4,
     "metadata": {},
     "output_type": "execute_result"
    }
   ],
   "source": [
    "df.head()\n",
    "# Loading the dataset"
   ]
  },
  {
   "cell_type": "code",
   "execution_count": 5,
   "id": "65e9bb88",
   "metadata": {
    "execution": {
     "iopub.execute_input": "2022-03-31T11:19:17.110544Z",
     "iopub.status.busy": "2022-03-31T11:19:17.109627Z",
     "iopub.status.idle": "2022-03-31T11:19:17.113781Z",
     "shell.execute_reply": "2022-03-31T11:19:17.113135Z",
     "shell.execute_reply.started": "2022-03-31T11:10:53.202874Z"
    },
    "papermill": {
     "duration": 0.090433,
     "end_time": "2022-03-31T11:19:17.113923",
     "exception": false,
     "start_time": "2022-03-31T11:19:17.023490",
     "status": "completed"
    },
    "tags": []
   },
   "outputs": [
    {
     "data": {
      "text/plain": [
       "(435742, 13)"
      ]
     },
     "execution_count": 5,
     "metadata": {},
     "output_type": "execute_result"
    }
   ],
   "source": [
    "df.shape\n",
    "# As we can see that there are 4,35,742 rows and 13 columns in the dataset"
   ]
  },
  {
   "cell_type": "code",
   "execution_count": 6,
   "id": "6990e64c",
   "metadata": {
    "execution": {
     "iopub.execute_input": "2022-03-31T11:19:17.276854Z",
     "iopub.status.busy": "2022-03-31T11:19:17.276175Z",
     "iopub.status.idle": "2022-03-31T11:19:17.644873Z",
     "shell.execute_reply": "2022-03-31T11:19:17.645425Z",
     "shell.execute_reply.started": "2022-03-31T11:10:53.209797Z"
    },
    "papermill": {
     "duration": 0.453117,
     "end_time": "2022-03-31T11:19:17.645668",
     "exception": false,
     "start_time": "2022-03-31T11:19:17.192551",
     "status": "completed"
    },
    "tags": []
   },
   "outputs": [
    {
     "name": "stdout",
     "output_type": "stream",
     "text": [
      "<class 'pandas.core.frame.DataFrame'>\n",
      "RangeIndex: 435742 entries, 0 to 435741\n",
      "Data columns (total 13 columns):\n",
      " #   Column                       Non-Null Count   Dtype  \n",
      "---  ------                       --------------   -----  \n",
      " 0   stn_code                     291665 non-null  object \n",
      " 1   sampling_date                435739 non-null  object \n",
      " 2   state                        435742 non-null  object \n",
      " 3   location                     435739 non-null  object \n",
      " 4   agency                       286261 non-null  object \n",
      " 5   type                         430349 non-null  object \n",
      " 6   so2                          401096 non-null  float64\n",
      " 7   no2                          419509 non-null  float64\n",
      " 8   rspm                         395520 non-null  float64\n",
      " 9   spm                          198355 non-null  float64\n",
      " 10  location_monitoring_station  408251 non-null  object \n",
      " 11  pm2_5                        9314 non-null    float64\n",
      " 12  date                         435735 non-null  object \n",
      "dtypes: float64(5), object(8)\n",
      "memory usage: 43.2+ MB\n"
     ]
    }
   ],
   "source": [
    "df.info()\n",
    "# Checking the over all information on the dataset."
   ]
  },
  {
   "cell_type": "code",
   "execution_count": 7,
   "id": "e6e8c6f7",
   "metadata": {
    "execution": {
     "iopub.execute_input": "2022-03-31T11:19:17.814351Z",
     "iopub.status.busy": "2022-03-31T11:19:17.813696Z",
     "iopub.status.idle": "2022-03-31T11:19:18.164034Z",
     "shell.execute_reply": "2022-03-31T11:19:18.163462Z",
     "shell.execute_reply.started": "2022-03-31T11:10:53.579825Z"
    },
    "papermill": {
     "duration": 0.43764,
     "end_time": "2022-03-31T11:19:18.164183",
     "exception": false,
     "start_time": "2022-03-31T11:19:17.726543",
     "status": "completed"
    },
    "tags": []
   },
   "outputs": [
    {
     "data": {
      "text/plain": [
       "stn_code                       144077\n",
       "sampling_date                       3\n",
       "state                               0\n",
       "location                            3\n",
       "agency                         149481\n",
       "type                             5393\n",
       "so2                             34646\n",
       "no2                             16233\n",
       "rspm                            40222\n",
       "spm                            237387\n",
       "location_monitoring_station     27491\n",
       "pm2_5                          426428\n",
       "date                                7\n",
       "dtype: int64"
      ]
     },
     "execution_count": 7,
     "metadata": {},
     "output_type": "execute_result"
    }
   ],
   "source": [
    "df.isnull().sum()\n",
    "# There are a lot of missing values present in the dataset"
   ]
  },
  {
   "cell_type": "code",
   "execution_count": 8,
   "id": "7bbae519",
   "metadata": {
    "execution": {
     "iopub.execute_input": "2022-03-31T11:19:18.337575Z",
     "iopub.status.busy": "2022-03-31T11:19:18.336884Z",
     "iopub.status.idle": "2022-03-31T11:19:18.420093Z",
     "shell.execute_reply": "2022-03-31T11:19:18.419573Z",
     "shell.execute_reply.started": "2022-03-31T11:10:53.926722Z"
    },
    "papermill": {
     "duration": 0.176048,
     "end_time": "2022-03-31T11:19:18.420229",
     "exception": false,
     "start_time": "2022-03-31T11:19:18.244181",
     "status": "completed"
    },
    "tags": []
   },
   "outputs": [
    {
     "data": {
      "text/html": [
       "<div>\n",
       "<style scoped>\n",
       "    .dataframe tbody tr th:only-of-type {\n",
       "        vertical-align: middle;\n",
       "    }\n",
       "\n",
       "    .dataframe tbody tr th {\n",
       "        vertical-align: top;\n",
       "    }\n",
       "\n",
       "    .dataframe thead th {\n",
       "        text-align: right;\n",
       "    }\n",
       "</style>\n",
       "<table border=\"1\" class=\"dataframe\">\n",
       "  <thead>\n",
       "    <tr style=\"text-align: right;\">\n",
       "      <th></th>\n",
       "      <th>so2</th>\n",
       "      <th>no2</th>\n",
       "      <th>rspm</th>\n",
       "      <th>spm</th>\n",
       "      <th>pm2_5</th>\n",
       "    </tr>\n",
       "  </thead>\n",
       "  <tbody>\n",
       "    <tr>\n",
       "      <th>count</th>\n",
       "      <td>401096.000000</td>\n",
       "      <td>419509.000000</td>\n",
       "      <td>395520.000000</td>\n",
       "      <td>198355.000000</td>\n",
       "      <td>9314.000000</td>\n",
       "    </tr>\n",
       "    <tr>\n",
       "      <th>mean</th>\n",
       "      <td>10.829414</td>\n",
       "      <td>25.809623</td>\n",
       "      <td>108.832784</td>\n",
       "      <td>220.783480</td>\n",
       "      <td>40.791467</td>\n",
       "    </tr>\n",
       "    <tr>\n",
       "      <th>std</th>\n",
       "      <td>11.177187</td>\n",
       "      <td>18.503086</td>\n",
       "      <td>74.872430</td>\n",
       "      <td>151.395457</td>\n",
       "      <td>30.832525</td>\n",
       "    </tr>\n",
       "    <tr>\n",
       "      <th>min</th>\n",
       "      <td>0.000000</td>\n",
       "      <td>0.000000</td>\n",
       "      <td>0.000000</td>\n",
       "      <td>0.000000</td>\n",
       "      <td>3.000000</td>\n",
       "    </tr>\n",
       "    <tr>\n",
       "      <th>25%</th>\n",
       "      <td>5.000000</td>\n",
       "      <td>14.000000</td>\n",
       "      <td>56.000000</td>\n",
       "      <td>111.000000</td>\n",
       "      <td>24.000000</td>\n",
       "    </tr>\n",
       "    <tr>\n",
       "      <th>50%</th>\n",
       "      <td>8.000000</td>\n",
       "      <td>22.000000</td>\n",
       "      <td>90.000000</td>\n",
       "      <td>187.000000</td>\n",
       "      <td>32.000000</td>\n",
       "    </tr>\n",
       "    <tr>\n",
       "      <th>75%</th>\n",
       "      <td>13.700000</td>\n",
       "      <td>32.200000</td>\n",
       "      <td>142.000000</td>\n",
       "      <td>296.000000</td>\n",
       "      <td>46.000000</td>\n",
       "    </tr>\n",
       "    <tr>\n",
       "      <th>max</th>\n",
       "      <td>909.000000</td>\n",
       "      <td>876.000000</td>\n",
       "      <td>6307.033333</td>\n",
       "      <td>3380.000000</td>\n",
       "      <td>504.000000</td>\n",
       "    </tr>\n",
       "  </tbody>\n",
       "</table>\n",
       "</div>"
      ],
      "text/plain": [
       "                 so2            no2           rspm            spm        pm2_5\n",
       "count  401096.000000  419509.000000  395520.000000  198355.000000  9314.000000\n",
       "mean       10.829414      25.809623     108.832784     220.783480    40.791467\n",
       "std        11.177187      18.503086      74.872430     151.395457    30.832525\n",
       "min         0.000000       0.000000       0.000000       0.000000     3.000000\n",
       "25%         5.000000      14.000000      56.000000     111.000000    24.000000\n",
       "50%         8.000000      22.000000      90.000000     187.000000    32.000000\n",
       "75%        13.700000      32.200000     142.000000     296.000000    46.000000\n",
       "max       909.000000     876.000000    6307.033333    3380.000000   504.000000"
      ]
     },
     "execution_count": 8,
     "metadata": {},
     "output_type": "execute_result"
    }
   ],
   "source": [
    "df.describe()\n",
    "# Checking the descriptive stats of the numeric values present in the data like mean, standard deviation, min values and max value present in the data"
   ]
  },
  {
   "cell_type": "code",
   "execution_count": 9,
   "id": "75492cf3",
   "metadata": {
    "execution": {
     "iopub.execute_input": "2022-03-31T11:19:18.584834Z",
     "iopub.status.busy": "2022-03-31T11:19:18.584190Z",
     "iopub.status.idle": "2022-03-31T11:19:18.952368Z",
     "shell.execute_reply": "2022-03-31T11:19:18.951864Z",
     "shell.execute_reply.started": "2022-03-31T11:10:54.019504Z"
    },
    "papermill": {
     "duration": 0.451122,
     "end_time": "2022-03-31T11:19:18.952541",
     "exception": false,
     "start_time": "2022-03-31T11:19:18.501419",
     "status": "completed"
    },
    "tags": []
   },
   "outputs": [
    {
     "data": {
      "text/plain": [
       "stn_code                        803\n",
       "sampling_date                  5485\n",
       "state                            37\n",
       "location                        304\n",
       "agency                           64\n",
       "type                             10\n",
       "so2                            4197\n",
       "no2                            6864\n",
       "rspm                           6065\n",
       "spm                            6668\n",
       "location_monitoring_station     991\n",
       "pm2_5                           433\n",
       "date                           5067\n",
       "dtype: int64"
      ]
     },
     "execution_count": 9,
     "metadata": {},
     "output_type": "execute_result"
    }
   ],
   "source": [
    "df.nunique()\n",
    "# These are all the unique values present in the dataframe"
   ]
  },
  {
   "cell_type": "code",
   "execution_count": 10,
   "id": "4468079b",
   "metadata": {
    "execution": {
     "iopub.execute_input": "2022-03-31T11:19:19.119107Z",
     "iopub.status.busy": "2022-03-31T11:19:19.118464Z",
     "iopub.status.idle": "2022-03-31T11:19:19.123362Z",
     "shell.execute_reply": "2022-03-31T11:19:19.123977Z",
     "shell.execute_reply.started": "2022-03-31T11:10:54.412701Z"
    },
    "papermill": {
     "duration": 0.089051,
     "end_time": "2022-03-31T11:19:19.124141",
     "exception": false,
     "start_time": "2022-03-31T11:19:19.035090",
     "status": "completed"
    },
    "tags": []
   },
   "outputs": [
    {
     "data": {
      "text/plain": [
       "Index(['stn_code', 'sampling_date', 'state', 'location', 'agency', 'type',\n",
       "       'so2', 'no2', 'rspm', 'spm', 'location_monitoring_station', 'pm2_5',\n",
       "       'date'],\n",
       "      dtype='object')"
      ]
     },
     "execution_count": 10,
     "metadata": {},
     "output_type": "execute_result"
    }
   ],
   "source": [
    "df.columns\n",
    "# These are all the columns present in the dataset."
   ]
  },
  {
   "cell_type": "markdown",
   "id": "b30a15b5",
   "metadata": {
    "papermill": {
     "duration": 0.080324,
     "end_time": "2022-03-31T11:19:19.285878",
     "exception": false,
     "start_time": "2022-03-31T11:19:19.205554",
     "status": "completed"
    },
    "tags": []
   },
   "source": [
    "stn_code (station code)\n",
    "sampling_date (date of sample collection)\n",
    "state (Indian State)\n",
    "location (location of sample collection)\n",
    "agency\n",
    "type (type of area)\n",
    "so2 (sulphur dioxide concentration)\n",
    "no2 (nitrogen dioxide concentration)\n",
    "rspm (respirable suspended particualte matter concentration)\n",
    "spm (suspended particulate matter)\n",
    "location_monitoring_station\n",
    "pm2_5 (particulate matter 2.5)\n",
    "date (date)"
   ]
  },
  {
   "cell_type": "markdown",
   "id": "6ab84642",
   "metadata": {
    "papermill": {
     "duration": 0.080359,
     "end_time": "2022-03-31T11:19:19.447324",
     "exception": false,
     "start_time": "2022-03-31T11:19:19.366965",
     "status": "completed"
    },
    "tags": []
   },
   "source": [
    "## Data Visualization"
   ]
  },
  {
   "cell_type": "code",
   "execution_count": 11,
   "id": "0b096fbc",
   "metadata": {
    "execution": {
     "iopub.execute_input": "2022-03-31T11:19:19.613543Z",
     "iopub.status.busy": "2022-03-31T11:19:19.612914Z",
     "iopub.status.idle": "2022-03-31T11:19:58.237126Z",
     "shell.execute_reply": "2022-03-31T11:19:58.237697Z",
     "shell.execute_reply.started": "2022-03-31T11:10:54.419791Z"
    },
    "papermill": {
     "duration": 38.708521,
     "end_time": "2022-03-31T11:19:58.237876",
     "exception": false,
     "start_time": "2022-03-31T11:19:19.529355",
     "status": "completed"
    },
    "scrolled": false,
    "tags": []
   },
   "outputs": [
    {
     "data": {
      "text/plain": [
       "<seaborn.axisgrid.PairGrid at 0x12b2c0b31c0>"
      ]
     },
     "execution_count": 11,
     "metadata": {},
     "output_type": "execute_result"
    },
    {
     "data": {
      "image/png": "[encoded data removed]",
      "text/plain": [
       "<Figure size 1250x1250 with 30 Axes>"
      ]
     },
     "metadata": {},
     "output_type": "display_data"
    }
   ],
   "source": [
    "sns.pairplot(data=df)"
   ]
  },
  {
   "cell_type": "code",
   "execution_count": 12,
   "id": "2f0467ea",
   "metadata": {
    "execution": {
     "iopub.execute_input": "2022-03-31T11:19:58.465535Z",
     "iopub.status.busy": "2022-03-31T11:19:58.464839Z",
     "iopub.status.idle": "2022-03-31T11:19:58.470667Z",
     "shell.execute_reply": "2022-03-31T11:19:58.471120Z",
     "shell.execute_reply.started": "2022-03-31T11:11:33.090220Z"
    },
    "papermill": {
     "duration": 0.147965,
     "end_time": "2022-03-31T11:19:58.471291",
     "exception": false,
     "start_time": "2022-03-31T11:19:58.323326",
     "status": "completed"
    },
    "tags": []
   },
   "outputs": [
    {
     "data": {
      "text/plain": [
       "Maharashtra                    60384\n",
       "Uttar Pradesh                  42816\n",
       "Andhra Pradesh                 26368\n",
       "Punjab                         25634\n",
       "Rajasthan                      25589\n",
       "Kerala                         24728\n",
       "Himachal Pradesh               22896\n",
       "West Bengal                    22463\n",
       "Gujarat                        21279\n",
       "Tamil Nadu                     20597\n",
       "Madhya Pradesh                 19920\n",
       "Assam                          19361\n",
       "Odisha                         19279\n",
       "Karnataka                      17119\n",
       "Delhi                           8551\n",
       "Chandigarh                      8520\n",
       "Chhattisgarh                    7831\n",
       "Goa                             6206\n",
       "Jharkhand                       5968\n",
       "Mizoram                         5338\n",
       "Telangana                       3978\n",
       "Meghalaya                       3853\n",
       "Puducherry                      3785\n",
       "Haryana                         3420\n",
       "Nagaland                        2463\n",
       "Bihar                           2275\n",
       "Uttarakhand                     1961\n",
       "Jammu & Kashmir                 1289\n",
       "Daman & Diu                      782\n",
       "Dadra & Nagar Haveli             634\n",
       "Uttaranchal                      285\n",
       "Arunachal Pradesh                 90\n",
       "Manipur                           76\n",
       "Sikkim                             1\n",
       "andaman-and-nicobar-islands        1\n",
       "Lakshadweep                        1\n",
       "Tripura                            1\n",
       "Name: state, dtype: int64"
      ]
     },
     "execution_count": 12,
     "metadata": {},
     "output_type": "execute_result"
    }
   ],
   "source": [
    "df['state'].value_counts()\n",
    "# Viewing the count of values present in the state column"
   ]
  },
  {
   "cell_type": "code",
   "execution_count": 13,
   "id": "e05aa8af",
   "metadata": {
    "execution": {
     "iopub.execute_input": "2022-03-31T11:19:58.648240Z",
     "iopub.status.busy": "2022-03-31T11:19:58.647620Z",
     "iopub.status.idle": "2022-03-31T11:19:59.312599Z",
     "shell.execute_reply": "2022-03-31T11:19:59.313083Z",
     "shell.execute_reply.started": "2022-03-31T11:11:33.151717Z"
    },
    "papermill": {
     "duration": 0.754835,
     "end_time": "2022-03-31T11:19:59.313247",
     "exception": false,
     "start_time": "2022-03-31T11:19:58.558412",
     "status": "completed"
    },
    "tags": []
   },
   "outputs": [
    {
     "data": {
      "text/plain": [
       "[]"
      ]
     },
     "execution_count": 13,
     "metadata": {},
     "output_type": "execute_result"
    }
   ],
   "source": [
    "plt.figure(figsize=(15, 6))\n",
    "plt.xticks(rotation=90)\n",
    "df.state.hist()\n",
    "plt.xlabel('state')\n",
    "plt.ylabel('Frequencies')\n",
    "plt.plot()\n",
    "# The visualization shows us the count of states present in the dataset."
   ]
  },
  {
   "cell_type": "code",
   "execution_count": 14,
   "id": "c7c6c057",
   "metadata": {
    "execution": {
     "iopub.execute_input": "2022-03-31T11:19:59.494640Z",
     "iopub.status.busy": "2022-03-31T11:19:59.494000Z",
     "iopub.status.idle": "2022-03-31T11:19:59.566308Z",
     "shell.execute_reply": "2022-03-31T11:19:59.565798Z",
     "shell.execute_reply.started": "2022-03-31T11:11:33.818984Z"
    },
    "papermill": {
     "duration": 0.164631,
     "end_time": "2022-03-31T11:19:59.566448",
     "exception": false,
     "start_time": "2022-03-31T11:19:59.401817",
     "status": "completed"
    },
    "tags": []
   },
   "outputs": [
    {
     "data": {
      "text/plain": [
       "Residential, Rural and other Areas    179014\n",
       "Industrial Area                        96091\n",
       "Residential and others                 86791\n",
       "Industrial Areas                       51747\n",
       "Sensitive Area                          8980\n",
       "Sensitive Areas                         5536\n",
       "RIRUO                                   1304\n",
       "Sensitive                                495\n",
       "Industrial                               233\n",
       "Residential                              158\n",
       "Name: type, dtype: int64"
      ]
     },
     "execution_count": 14,
     "metadata": {},
     "output_type": "execute_result"
    }
   ],
   "source": [
    "df['type'].value_counts()\n",
    "# Viewing the count of values present in the type column"
   ]
  },
  {
   "cell_type": "code",
   "execution_count": 15,
   "id": "04518632",
   "metadata": {
    "execution": {
     "iopub.execute_input": "2022-03-31T11:19:59.770531Z",
     "iopub.status.busy": "2022-03-31T11:19:59.769387Z",
     "iopub.status.idle": "2022-03-31T11:20:00.264632Z",
     "shell.execute_reply": "2022-03-31T11:20:00.264092Z",
     "shell.execute_reply.started": "2022-03-31T11:11:33.895797Z"
    },
    "papermill": {
     "duration": 0.609534,
     "end_time": "2022-03-31T11:20:00.264769",
     "exception": false,
     "start_time": "2022-03-31T11:19:59.655235",
     "status": "completed"
    },
    "tags": []
   },
   "outputs": [
    {
     "data": {
      "text/plain": [
       "[]"
      ]
     },
     "execution_count": 15,
     "metadata": {},
     "output_type": "execute_result"
    }
   ],
   "source": [
    "plt.figure(figsize=(15, 6))\n",
    "plt.xticks(rotation=90)\n",
    "df.type.hist()\n",
    "plt.xlabel('Type')\n",
    "plt.ylabel('Frequencies')\n",
    "plt.plot()\n",
    "# The visualization shows us the count of Types present in the dataset."
   ]
  },
  {
   "cell_type": "code",
   "execution_count": 16,
   "id": "74032b79",
   "metadata": {
    "execution": {
     "iopub.execute_input": "2022-03-31T11:20:00.491229Z",
     "iopub.status.busy": "2022-03-31T11:20:00.488397Z",
     "iopub.status.idle": "2022-03-31T11:20:00.495554Z",
     "shell.execute_reply": "2022-03-31T11:20:00.496020Z",
     "shell.execute_reply.started": "2022-03-31T11:11:34.419262Z"
    },
    "papermill": {
     "duration": 0.141563,
     "end_time": "2022-03-31T11:20:00.496194",
     "exception": false,
     "start_time": "2022-03-31T11:20:00.354631",
     "status": "completed"
    },
    "tags": []
   },
   "outputs": [
    {
     "data": {
      "text/plain": [
       "Maharashtra State Pollution Control Board                                 27857\n",
       "Uttar Pradesh State Pollution Control Board                               22686\n",
       "Andhra Pradesh State Pollution Control Board                              19139\n",
       "Himachal Pradesh State Environment Proection & Pollution Control Board    15287\n",
       "Punjab State Pollution Control Board                                      15232\n",
       "                                                                          ...  \n",
       "Arunachal Pradesh State Pollution Control Board                              90\n",
       "TNPC                                                                         82\n",
       "RPCB                                                                         63\n",
       "VRCE                                                                         61\n",
       "RJPB                                                                         53\n",
       "Name: agency, Length: 64, dtype: int64"
      ]
     },
     "execution_count": 16,
     "metadata": {},
     "output_type": "execute_result"
    }
   ],
   "source": [
    "df['agency'].value_counts()\n",
    "# Viewing the counts of values present in the agency column"
   ]
  },
  {
   "cell_type": "code",
   "execution_count": 17,
   "id": "fb323d73",
   "metadata": {
    "execution": {
     "iopub.execute_input": "2022-03-31T11:20:00.683163Z",
     "iopub.status.busy": "2022-03-31T11:20:00.682551Z",
     "iopub.status.idle": "2022-03-31T11:20:02.549238Z",
     "shell.execute_reply": "2022-03-31T11:20:02.549740Z",
     "shell.execute_reply.started": "2022-03-31T11:11:34.473123Z"
    },
    "papermill": {
     "duration": 1.961497,
     "end_time": "2022-03-31T11:20:02.549910",
     "exception": false,
     "start_time": "2022-03-31T11:20:00.588413",
     "status": "completed"
    },
    "tags": []
   },
   "outputs": [
    {
     "data": {
      "text/plain": [
       "[]"
      ]
     },
     "execution_count": 17,
     "metadata": {},
     "output_type": "execute_result"
    }
   ],
   "source": [
    "plt.figure(figsize=(15, 6))\n",
    "plt.xticks(rotation=90)\n",
    "df.agency.hist()\n",
    "plt.xlabel('Agency')\n",
    "plt.ylabel('Frequencies')\n",
    "plt.plot()\n",
    "# The visualization shows us the count of Agency present in the dataset."
   ]
  },
  {
   "cell_type": "code",
   "execution_count": 18,
   "id": "ccdb20de",
   "metadata": {
    "execution": {
     "iopub.execute_input": "2022-03-31T11:20:02.760904Z",
     "iopub.status.busy": "2022-03-31T11:20:02.745292Z",
     "iopub.status.idle": "2022-03-31T11:20:08.649221Z",
     "shell.execute_reply": "2022-03-31T11:20:08.649733Z",
     "shell.execute_reply.started": "2022-03-31T11:11:36.355816Z"
    },
    "papermill": {
     "duration": 6.004778,
     "end_time": "2022-03-31T11:20:08.649905",
     "exception": false,
     "start_time": "2022-03-31T11:20:02.645127",
     "status": "completed"
    },
    "tags": []
   },
   "outputs": [],
   "source": [
    "plt.figure(figsize=(30, 10))\n",
    "plt.xticks(rotation=90)\n",
    "sns.barplot(x='state',y='so2',data=df);\n",
    "# This visualization shows the name of the state having higher so2 levels in the air which is Uttaranchal followed by Uttarakhand"
   ]
  },
  {
   "cell_type": "code",
   "execution_count": 19,
   "id": "6876c0b8",
   "metadata": {
    "execution": {
     "iopub.execute_input": "2022-03-31T11:20:08.847675Z",
     "iopub.status.busy": "2022-03-31T11:20:08.846989Z",
     "iopub.status.idle": "2022-03-31T11:20:08.848666Z",
     "shell.execute_reply": "2022-03-31T11:20:08.849098Z",
     "shell.execute_reply.started": "2022-03-31T11:11:42.250196Z"
    },
    "papermill": {
     "duration": 0.103169,
     "end_time": "2022-03-31T11:20:08.849265",
     "exception": false,
     "start_time": "2022-03-31T11:20:08.746096",
     "status": "completed"
    },
    "tags": []
   },
   "outputs": [],
   "source": [
    "plt.rcParams['figure.figsize']=(30,10)"
   ]
  },
  {
   "cell_type": "code",
   "execution_count": null,
   "id": "6b225740",
   "metadata": {
    "execution": {
     "iopub.execute_input": "2022-03-31T11:20:09.050874Z",
     "iopub.status.busy": "2022-03-31T11:20:09.049841Z",
     "iopub.status.idle": "2022-03-31T11:20:09.862870Z",
     "shell.execute_reply": "2022-03-31T11:20:09.863393Z",
     "shell.execute_reply.started": "2022-03-31T11:11:42.256960Z"
    },
    "papermill": {
     "duration": 0.91842,
     "end_time": "2022-03-31T11:20:09.863602",
     "exception": false,
     "start_time": "2022-03-31T11:20:08.945182",
     "status": "completed"
    },
    "tags": []
   },
   "outputs": [],
   "source": [
    "df[['so2','state']].groupby([\"state\"]).mean().sort_values(by='so2').plot.bar(color='purple')\n",
    "plt.show()\n",
    "# We can also use the groupby function to sort values in an ascending order based on the x-axis, y-axis and its keys\n",
    "# Below we get a clear picture of the states in an increasing order based on their so2 levels."
   ]
  },
  {
   "cell_type": "code",
   "execution_count": 23,
   "id": "eb356420",
   "metadata": {
    "execution": {
     "iopub.execute_input": "2022-03-31T11:20:10.086537Z",
     "iopub.status.busy": "2022-03-31T11:20:10.085396Z",
     "iopub.status.idle": "2022-03-31T11:20:16.090582Z",
     "shell.execute_reply": "2022-03-31T11:20:16.091076Z",
     "shell.execute_reply.started": "2022-03-31T11:11:43.093646Z"
    },
    "papermill": {
     "duration": 6.12919,
     "end_time": "2022-03-31T11:20:16.091240",
     "exception": false,
     "start_time": "2022-03-31T11:20:09.962050",
     "status": "completed"
    },
    "tags": []
   },
   "outputs": [],
   "source": [
    "plt.figure(figsize=(30, 10))\n",
    "plt.xticks(rotation=90)\n",
    "sns.barplot(x='state',y='no2',data=df);\n",
    "# West bengal has a higher no2 level compared to other states "
   ]
  },
  {
   "cell_type": "code",
   "execution_count": 24,
   "id": "4f72a855",
   "metadata": {
    "execution": {
     "iopub.execute_input": "2022-03-31T11:20:16.297068Z",
     "iopub.status.busy": "2022-03-31T11:20:16.296035Z",
     "iopub.status.idle": "2022-03-31T11:20:16.820645Z",
     "shell.execute_reply": "2022-03-31T11:20:16.821150Z",
     "shell.execute_reply.started": "2022-03-31T11:11:49.183690Z"
    },
    "papermill": {
     "duration": 0.630876,
     "end_time": "2022-03-31T11:20:16.821318",
     "exception": false,
     "start_time": "2022-03-31T11:20:16.190442",
     "status": "completed"
    },
    "tags": []
   },
   "outputs": [
    {
     "data": {
      "image/png": "[encoded data removed]",
      "text/plain": [
       "<Figure size 3000x1000 with 1 Axes>"
      ]
     },
     "metadata": {},
     "output_type": "display_data"
    },
    {
     "data": {
      "image/png": "[encoded data removed]",
      "text/plain": [
       "<Figure size 3000x1000 with 1 Axes>"
      ]
     },
     "metadata": {},
     "output_type": "display_data"
    }
   ],
   "source": [
    "df[['no2','state']].groupby([\"state\"]).mean().sort_values(by='no2').plot.bar(color='purple')\n",
    "plt.show()\n",
    "# We can also use the groupby function to sort values in an ascending order based on the x-axis, y-axis and its keys\n",
    "# Below we get a clear picture of the states in an increasing order based on their no2 levels."
   ]
  },
  {
   "cell_type": "code",
   "execution_count": 25,
   "id": "ea403338",
   "metadata": {
    "execution": {
     "iopub.execute_input": "2022-03-31T11:20:17.130872Z",
     "iopub.status.busy": "2022-03-31T11:20:17.129938Z",
     "iopub.status.idle": "2022-03-31T11:20:22.825524Z",
     "shell.execute_reply": "2022-03-31T11:20:22.824979Z",
     "shell.execute_reply.started": "2022-03-31T11:11:49.734785Z"
    },
    "papermill": {
     "duration": 5.904287,
     "end_time": "2022-03-31T11:20:22.825686",
     "exception": false,
     "start_time": "2022-03-31T11:20:16.921399",
     "status": "completed"
    },
    "tags": []
   },
   "outputs": [],
   "source": [
    "plt.figure(figsize=(30, 10))\n",
    "plt.xticks(rotation=90)\n",
    "sns.barplot(x='state',y='rspm',data=df);\n",
    "# Delhi has higher rspm level compared to other states "
   ]
  },
  {
   "cell_type": "code",
   "execution_count": 26,
   "id": "d02a87ea",
   "metadata": {
    "execution": {
     "iopub.execute_input": "2022-03-31T11:20:23.057810Z",
     "iopub.status.busy": "2022-03-31T11:20:23.055621Z",
     "iopub.status.idle": "2022-03-31T11:20:26.782009Z",
     "shell.execute_reply": "2022-03-31T11:20:26.782553Z",
     "shell.execute_reply.started": "2022-03-31T11:11:55.563863Z"
    },
    "papermill": {
     "duration": 3.852673,
     "end_time": "2022-03-31T11:20:26.782728",
     "exception": false,
     "start_time": "2022-03-31T11:20:22.930055",
     "status": "completed"
    },
    "tags": []
   },
   "outputs": [],
   "source": [
    "plt.figure(figsize=(30, 10))\n",
    "plt.xticks(rotation=90)\n",
    "sns.barplot(x='state',y='spm',data=df);\n",
    "# Delhi has higher spm level compared to other states "
   ]
  },
  {
   "cell_type": "code",
   "execution_count": 27,
   "id": "29276774",
   "metadata": {
    "execution": {
     "iopub.execute_input": "2022-03-31T11:20:26.997292Z",
     "iopub.status.busy": "2022-03-31T11:20:26.996288Z",
     "iopub.status.idle": "2022-03-31T11:20:28.294702Z",
     "shell.execute_reply": "2022-03-31T11:20:28.294179Z",
     "shell.execute_reply.started": "2022-03-31T11:11:59.353934Z"
    },
    "papermill": {
     "duration": 1.406208,
     "end_time": "2022-03-31T11:20:28.294845",
     "exception": false,
     "start_time": "2022-03-31T11:20:26.888637",
     "status": "completed"
    },
    "tags": []
   },
   "outputs": [],
   "source": [
    "plt.figure(figsize=(30, 10))\n",
    "plt.xticks(rotation=90)\n",
    "sns.barplot(x='state',y='pm2_5',data=df);\n",
    "# Delhi has higher pm2_5 level compared to other states "
   ]
  },
  {
   "cell_type": "markdown",
   "id": "36fd11a4",
   "metadata": {
    "papermill": {
     "duration": 0.107283,
     "end_time": "2022-03-31T11:20:28.508323",
     "exception": false,
     "start_time": "2022-03-31T11:20:28.401040",
     "status": "completed"
    },
    "tags": []
   },
   "source": [
    "### Checking all null values and treating those null values."
   ]
  },
  {
   "cell_type": "code",
   "execution_count": 28,
   "id": "c5a0b125",
   "metadata": {
    "execution": {
     "iopub.execute_input": "2022-03-31T11:20:28.726777Z",
     "iopub.status.busy": "2022-03-31T11:20:28.726121Z",
     "iopub.status.idle": "2022-03-31T11:20:29.070990Z",
     "shell.execute_reply": "2022-03-31T11:20:29.070383Z",
     "shell.execute_reply.started": "2022-03-31T11:12:00.668143Z"
    },
    "papermill": {
     "duration": 0.455563,
     "end_time": "2022-03-31T11:20:29.071133",
     "exception": false,
     "start_time": "2022-03-31T11:20:28.615570",
     "status": "completed"
    },
    "tags": []
   },
   "outputs": [],
   "source": [
    "nullvalues = df.isnull().sum().sort_values(ascending=False)\n",
    "# Checking all null values"
   ]
  },
  {
   "cell_type": "code",
   "execution_count": 29,
   "id": "dd148c25",
   "metadata": {
    "execution": {
     "iopub.execute_input": "2022-03-31T11:20:29.315410Z",
     "iopub.status.busy": "2022-03-31T11:20:29.314802Z",
     "iopub.status.idle": "2022-03-31T11:20:29.318208Z",
     "shell.execute_reply": "2022-03-31T11:20:29.318842Z",
     "shell.execute_reply.started": "2022-03-31T11:12:01.014662Z"
    },
    "papermill": {
     "duration": 0.125622,
     "end_time": "2022-03-31T11:20:29.319011",
     "exception": false,
     "start_time": "2022-03-31T11:20:29.193389",
     "status": "completed"
    },
    "tags": []
   },
   "outputs": [
    {
     "data": {
      "text/plain": [
       "pm2_5                          426428\n",
       "spm                            237387\n",
       "agency                         149481\n",
       "stn_code                       144077\n",
       "rspm                            40222\n",
       "so2                             34646\n",
       "location_monitoring_station     27491\n",
       "no2                             16233\n",
       "type                             5393\n",
       "date                                7\n",
       "sampling_date                       3\n",
       "location                            3\n",
       "state                               0\n",
       "dtype: int64"
      ]
     },
     "execution_count": 29,
     "metadata": {},
     "output_type": "execute_result"
    }
   ],
   "source": [
    "nullvalues\n",
    "# higher null values present in pm2_5 followed by spm"
   ]
  },
  {
   "cell_type": "code",
   "execution_count": 30,
   "id": "2ab6bf91",
   "metadata": {
    "execution": {
     "iopub.execute_input": "2022-03-31T11:20:29.536880Z",
     "iopub.status.busy": "2022-03-31T11:20:29.534471Z",
     "iopub.status.idle": "2022-03-31T11:20:30.223616Z",
     "shell.execute_reply": "2022-03-31T11:20:30.223065Z",
     "shell.execute_reply.started": "2022-03-31T11:12:01.022581Z"
    },
    "papermill": {
     "duration": 0.797886,
     "end_time": "2022-03-31T11:20:30.223770",
     "exception": false,
     "start_time": "2022-03-31T11:20:29.425884",
     "status": "completed"
    },
    "tags": []
   },
   "outputs": [],
   "source": [
    "null_values_percentage = (df.isnull().sum()/df.isnull().count()*100).sort_values(ascending=False)\n",
    "#count(returns Non-NAN value)"
   ]
  },
  {
   "cell_type": "code",
   "execution_count": 31,
   "id": "89de5f22",
   "metadata": {
    "execution": {
     "iopub.execute_input": "2022-03-31T11:20:30.445448Z",
     "iopub.status.busy": "2022-03-31T11:20:30.444797Z",
     "iopub.status.idle": "2022-03-31T11:20:30.447465Z",
     "shell.execute_reply": "2022-03-31T11:20:30.446855Z",
     "shell.execute_reply.started": "2022-03-31T11:12:01.714818Z"
    },
    "papermill": {
     "duration": 0.115519,
     "end_time": "2022-03-31T11:20:30.447652",
     "exception": false,
     "start_time": "2022-03-31T11:20:30.332133",
     "status": "completed"
    },
    "tags": []
   },
   "outputs": [],
   "source": [
    "missing_data_with_percentage = pd.concat([nullvalues, null_values_percentage], axis=1, keys=['Total', 'Percent'])\n",
    "# Concatenating total null values and their percentage of missing values for further imputation or column deletion"
   ]
  },
  {
   "cell_type": "code",
   "execution_count": 32,
   "id": "b934a243",
   "metadata": {
    "execution": {
     "iopub.execute_input": "2022-03-31T11:20:30.672212Z",
     "iopub.status.busy": "2022-03-31T11:20:30.671547Z",
     "iopub.status.idle": "2022-03-31T11:20:30.675444Z",
     "shell.execute_reply": "2022-03-31T11:20:30.674951Z",
     "shell.execute_reply.started": "2022-03-31T11:12:01.721829Z"
    },
    "papermill": {
     "duration": 0.121146,
     "end_time": "2022-03-31T11:20:30.675605",
     "exception": false,
     "start_time": "2022-03-31T11:20:30.554459",
     "status": "completed"
    },
    "tags": []
   },
   "outputs": [
    {
     "data": {
      "text/html": [
       "<div>\n",
       "<style scoped>\n",
       "    .dataframe tbody tr th:only-of-type {\n",
       "        vertical-align: middle;\n",
       "    }\n",
       "\n",
       "    .dataframe tbody tr th {\n",
       "        vertical-align: top;\n",
       "    }\n",
       "\n",
       "    .dataframe thead th {\n",
       "        text-align: right;\n",
       "    }\n",
       "</style>\n",
       "<table border=\"1\" class=\"dataframe\">\n",
       "  <thead>\n",
       "    <tr style=\"text-align: right;\">\n",
       "      <th></th>\n",
       "      <th>Total</th>\n",
       "      <th>Percent</th>\n",
       "    </tr>\n",
       "  </thead>\n",
       "  <tbody>\n",
       "    <tr>\n",
       "      <th>pm2_5</th>\n",
       "      <td>426428</td>\n",
       "      <td>97.862497</td>\n",
       "    </tr>\n",
       "    <tr>\n",
       "      <th>spm</th>\n",
       "      <td>237387</td>\n",
       "      <td>54.478797</td>\n",
       "    </tr>\n",
       "    <tr>\n",
       "      <th>agency</th>\n",
       "      <td>149481</td>\n",
       "      <td>34.304933</td>\n",
       "    </tr>\n",
       "    <tr>\n",
       "      <th>stn_code</th>\n",
       "      <td>144077</td>\n",
       "      <td>33.064749</td>\n",
       "    </tr>\n",
       "    <tr>\n",
       "      <th>rspm</th>\n",
       "      <td>40222</td>\n",
       "      <td>9.230692</td>\n",
       "    </tr>\n",
       "    <tr>\n",
       "      <th>so2</th>\n",
       "      <td>34646</td>\n",
       "      <td>7.951035</td>\n",
       "    </tr>\n",
       "    <tr>\n",
       "      <th>location_monitoring_station</th>\n",
       "      <td>27491</td>\n",
       "      <td>6.309009</td>\n",
       "    </tr>\n",
       "    <tr>\n",
       "      <th>no2</th>\n",
       "      <td>16233</td>\n",
       "      <td>3.725370</td>\n",
       "    </tr>\n",
       "    <tr>\n",
       "      <th>type</th>\n",
       "      <td>5393</td>\n",
       "      <td>1.237659</td>\n",
       "    </tr>\n",
       "    <tr>\n",
       "      <th>date</th>\n",
       "      <td>7</td>\n",
       "      <td>0.001606</td>\n",
       "    </tr>\n",
       "    <tr>\n",
       "      <th>sampling_date</th>\n",
       "      <td>3</td>\n",
       "      <td>0.000688</td>\n",
       "    </tr>\n",
       "    <tr>\n",
       "      <th>location</th>\n",
       "      <td>3</td>\n",
       "      <td>0.000688</td>\n",
       "    </tr>\n",
       "    <tr>\n",
       "      <th>state</th>\n",
       "      <td>0</td>\n",
       "      <td>0.000000</td>\n",
       "    </tr>\n",
       "  </tbody>\n",
       "</table>\n",
       "</div>"
      ],
      "text/plain": [
       "                              Total    Percent\n",
       "pm2_5                        426428  97.862497\n",
       "spm                          237387  54.478797\n",
       "agency                       149481  34.304933\n",
       "stn_code                     144077  33.064749\n",
       "rspm                          40222   9.230692\n",
       "so2                           34646   7.951035\n",
       "location_monitoring_station   27491   6.309009\n",
       "no2                           16233   3.725370\n",
       "type                           5393   1.237659\n",
       "date                              7   0.001606\n",
       "sampling_date                     3   0.000688\n",
       "location                          3   0.000688\n",
       "state                             0   0.000000"
      ]
     },
     "execution_count": 32,
     "metadata": {},
     "output_type": "execute_result"
    }
   ],
   "source": [
    "missing_data_with_percentage\n",
    "# As you can see below these are the percentages of null values present in the dataset"
   ]
  },
  {
   "cell_type": "code",
   "execution_count": 33,
   "id": "74818a98",
   "metadata": {
    "execution": {
     "iopub.execute_input": "2022-03-31T11:20:30.897344Z",
     "iopub.status.busy": "2022-03-31T11:20:30.896654Z",
     "iopub.status.idle": "2022-03-31T11:20:31.032719Z",
     "shell.execute_reply": "2022-03-31T11:20:31.032103Z",
     "shell.execute_reply.started": "2022-03-31T11:12:01.738701Z"
    },
    "papermill": {
     "duration": 0.250703,
     "end_time": "2022-03-31T11:20:31.032904",
     "exception": false,
     "start_time": "2022-03-31T11:20:30.782201",
     "status": "completed"
    },
    "tags": []
   },
   "outputs": [],
   "source": [
    "df.drop(['agency'],axis=1,inplace=True)\n",
    "df.drop(['stn_code'],axis=1,inplace=True)\n",
    "df.drop(['date'],axis=1,inplace=True)\n",
    "df.drop(['sampling_date'],axis=1,inplace=True)\n",
    "df.drop(['location_monitoring_station'],axis=1,inplace=True)\n",
    "# Dropping unnecessary columns"
   ]
  },
  {
   "cell_type": "code",
   "execution_count": 34,
   "id": "cc99121a",
   "metadata": {
    "execution": {
     "iopub.execute_input": "2022-03-31T11:20:31.388730Z",
     "iopub.status.busy": "2022-03-31T11:20:31.388062Z",
     "iopub.status.idle": "2022-03-31T11:20:31.400799Z",
     "shell.execute_reply": "2022-03-31T11:20:31.400216Z",
     "shell.execute_reply.started": "2022-03-31T11:12:01.879354Z"
    },
    "papermill": {
     "duration": 0.260407,
     "end_time": "2022-03-31T11:20:31.400942",
     "exception": false,
     "start_time": "2022-03-31T11:20:31.140535",
     "status": "completed"
    },
    "tags": []
   },
   "outputs": [
    {
     "data": {
      "text/plain": [
       "state            0\n",
       "location         3\n",
       "type          5393\n",
       "so2          34646\n",
       "no2          16233\n",
       "rspm         40222\n",
       "spm         237387\n",
       "pm2_5       426428\n",
       "dtype: int64"
      ]
     },
     "execution_count": 34,
     "metadata": {},
     "output_type": "execute_result"
    }
   ],
   "source": [
    "df.isnull().sum()\n",
    "# Now checking the null values"
   ]
  },
  {
   "cell_type": "code",
   "execution_count": 35,
   "id": "b36b779d",
   "metadata": {
    "execution": {
     "iopub.execute_input": "2022-03-31T11:20:31.642793Z",
     "iopub.status.busy": "2022-03-31T11:20:31.642080Z",
     "iopub.status.idle": "2022-03-31T11:20:31.646183Z",
     "shell.execute_reply": "2022-03-31T11:20:31.645663Z",
     "shell.execute_reply.started": "2022-03-31T11:12:02.035423Z"
    },
    "papermill": {
     "duration": 0.134615,
     "end_time": "2022-03-31T11:20:31.646318",
     "exception": false,
     "start_time": "2022-03-31T11:20:31.511703",
     "status": "completed"
    },
    "tags": []
   },
   "outputs": [
    {
     "data": {
      "text/html": [
       "<div>\n",
       "<style scoped>\n",
       "    .dataframe tbody tr th:only-of-type {\n",
       "        vertical-align: middle;\n",
       "    }\n",
       "\n",
       "    .dataframe tbody tr th {\n",
       "        vertical-align: top;\n",
       "    }\n",
       "\n",
       "    .dataframe thead th {\n",
       "        text-align: right;\n",
       "    }\n",
       "</style>\n",
       "<table border=\"1\" class=\"dataframe\">\n",
       "  <thead>\n",
       "    <tr style=\"text-align: right;\">\n",
       "      <th></th>\n",
       "      <th>state</th>\n",
       "      <th>location</th>\n",
       "      <th>type</th>\n",
       "      <th>so2</th>\n",
       "      <th>no2</th>\n",
       "      <th>rspm</th>\n",
       "      <th>spm</th>\n",
       "      <th>pm2_5</th>\n",
       "    </tr>\n",
       "  </thead>\n",
       "  <tbody>\n",
       "    <tr>\n",
       "      <th>0</th>\n",
       "      <td>Andhra Pradesh</td>\n",
       "      <td>Hyderabad</td>\n",
       "      <td>Residential, Rural and other Areas</td>\n",
       "      <td>4.8</td>\n",
       "      <td>17.4</td>\n",
       "      <td>NaN</td>\n",
       "      <td>NaN</td>\n",
       "      <td>NaN</td>\n",
       "    </tr>\n",
       "    <tr>\n",
       "      <th>1</th>\n",
       "      <td>Andhra Pradesh</td>\n",
       "      <td>Hyderabad</td>\n",
       "      <td>Industrial Area</td>\n",
       "      <td>3.1</td>\n",
       "      <td>7.0</td>\n",
       "      <td>NaN</td>\n",
       "      <td>NaN</td>\n",
       "      <td>NaN</td>\n",
       "    </tr>\n",
       "    <tr>\n",
       "      <th>2</th>\n",
       "      <td>Andhra Pradesh</td>\n",
       "      <td>Hyderabad</td>\n",
       "      <td>Residential, Rural and other Areas</td>\n",
       "      <td>6.2</td>\n",
       "      <td>28.5</td>\n",
       "      <td>NaN</td>\n",
       "      <td>NaN</td>\n",
       "      <td>NaN</td>\n",
       "    </tr>\n",
       "    <tr>\n",
       "      <th>3</th>\n",
       "      <td>Andhra Pradesh</td>\n",
       "      <td>Hyderabad</td>\n",
       "      <td>Residential, Rural and other Areas</td>\n",
       "      <td>6.3</td>\n",
       "      <td>14.7</td>\n",
       "      <td>NaN</td>\n",
       "      <td>NaN</td>\n",
       "      <td>NaN</td>\n",
       "    </tr>\n",
       "    <tr>\n",
       "      <th>4</th>\n",
       "      <td>Andhra Pradesh</td>\n",
       "      <td>Hyderabad</td>\n",
       "      <td>Industrial Area</td>\n",
       "      <td>4.7</td>\n",
       "      <td>7.5</td>\n",
       "      <td>NaN</td>\n",
       "      <td>NaN</td>\n",
       "      <td>NaN</td>\n",
       "    </tr>\n",
       "    <tr>\n",
       "      <th>...</th>\n",
       "      <td>...</td>\n",
       "      <td>...</td>\n",
       "      <td>...</td>\n",
       "      <td>...</td>\n",
       "      <td>...</td>\n",
       "      <td>...</td>\n",
       "      <td>...</td>\n",
       "      <td>...</td>\n",
       "    </tr>\n",
       "    <tr>\n",
       "      <th>435737</th>\n",
       "      <td>West Bengal</td>\n",
       "      <td>ULUBERIA</td>\n",
       "      <td>RIRUO</td>\n",
       "      <td>22.0</td>\n",
       "      <td>50.0</td>\n",
       "      <td>143.0</td>\n",
       "      <td>NaN</td>\n",
       "      <td>NaN</td>\n",
       "    </tr>\n",
       "    <tr>\n",
       "      <th>435738</th>\n",
       "      <td>West Bengal</td>\n",
       "      <td>ULUBERIA</td>\n",
       "      <td>RIRUO</td>\n",
       "      <td>20.0</td>\n",
       "      <td>46.0</td>\n",
       "      <td>171.0</td>\n",
       "      <td>NaN</td>\n",
       "      <td>NaN</td>\n",
       "    </tr>\n",
       "    <tr>\n",
       "      <th>435739</th>\n",
       "      <td>andaman-and-nicobar-islands</td>\n",
       "      <td>NaN</td>\n",
       "      <td>NaN</td>\n",
       "      <td>NaN</td>\n",
       "      <td>NaN</td>\n",
       "      <td>NaN</td>\n",
       "      <td>NaN</td>\n",
       "      <td>NaN</td>\n",
       "    </tr>\n",
       "    <tr>\n",
       "      <th>435740</th>\n",
       "      <td>Lakshadweep</td>\n",
       "      <td>NaN</td>\n",
       "      <td>NaN</td>\n",
       "      <td>NaN</td>\n",
       "      <td>NaN</td>\n",
       "      <td>NaN</td>\n",
       "      <td>NaN</td>\n",
       "      <td>NaN</td>\n",
       "    </tr>\n",
       "    <tr>\n",
       "      <th>435741</th>\n",
       "      <td>Tripura</td>\n",
       "      <td>NaN</td>\n",
       "      <td>NaN</td>\n",
       "      <td>NaN</td>\n",
       "      <td>NaN</td>\n",
       "      <td>NaN</td>\n",
       "      <td>NaN</td>\n",
       "      <td>NaN</td>\n",
       "    </tr>\n",
       "  </tbody>\n",
       "</table>\n",
       "<p>435742 rows × 8 columns</p>\n",
       "</div>"
      ],
      "text/plain": [
       "                              state   location  \\\n",
       "0                    Andhra Pradesh  Hyderabad   \n",
       "1                    Andhra Pradesh  Hyderabad   \n",
       "2                    Andhra Pradesh  Hyderabad   \n",
       "3                    Andhra Pradesh  Hyderabad   \n",
       "4                    Andhra Pradesh  Hyderabad   \n",
       "...                             ...        ...   \n",
       "435737                  West Bengal   ULUBERIA   \n",
       "435738                  West Bengal   ULUBERIA   \n",
       "435739  andaman-and-nicobar-islands        NaN   \n",
       "435740                  Lakshadweep        NaN   \n",
       "435741                      Tripura        NaN   \n",
       "\n",
       "                                      type   so2   no2   rspm  spm  pm2_5  \n",
       "0       Residential, Rural and other Areas   4.8  17.4    NaN  NaN    NaN  \n",
       "1                          Industrial Area   3.1   7.0    NaN  NaN    NaN  \n",
       "2       Residential, Rural and other Areas   6.2  28.5    NaN  NaN    NaN  \n",
       "3       Residential, Rural and other Areas   6.3  14.7    NaN  NaN    NaN  \n",
       "4                          Industrial Area   4.7   7.5    NaN  NaN    NaN  \n",
       "...                                    ...   ...   ...    ...  ...    ...  \n",
       "435737                               RIRUO  22.0  50.0  143.0  NaN    NaN  \n",
       "435738                               RIRUO  20.0  46.0  171.0  NaN    NaN  \n",
       "435739                                 NaN   NaN   NaN    NaN  NaN    NaN  \n",
       "435740                                 NaN   NaN   NaN    NaN  NaN    NaN  \n",
       "435741                                 NaN   NaN   NaN    NaN  NaN    NaN  \n",
       "\n",
       "[435742 rows x 8 columns]"
      ]
     },
     "execution_count": 35,
     "metadata": {},
     "output_type": "execute_result"
    }
   ],
   "source": [
    "df"
   ]
  },
  {
   "cell_type": "code",
   "execution_count": 36,
   "id": "235c8f60",
   "metadata": {
    "execution": {
     "iopub.execute_input": "2022-03-31T11:20:31.971108Z",
     "iopub.status.busy": "2022-03-31T11:20:31.970385Z",
     "iopub.status.idle": "2022-03-31T11:20:32.098133Z",
     "shell.execute_reply": "2022-03-31T11:20:32.097572Z",
     "shell.execute_reply.started": "2022-03-31T11:12:02.058415Z"
    },
    "papermill": {
     "duration": 0.340423,
     "end_time": "2022-03-31T11:20:32.098274",
     "exception": false,
     "start_time": "2022-03-31T11:20:31.757851",
     "status": "completed"
    },
    "tags": []
   },
   "outputs": [],
   "source": [
    "df['location']=df['location'].fillna(df['location'].mode()[0])\n",
    "df['type']=df['type'].fillna(df['type'].mode()[0])\n",
    "# Null value Imputation for categorical data"
   ]
  },
  {
   "cell_type": "code",
   "execution_count": 37,
   "id": "bd52df94",
   "metadata": {
    "execution": {
     "iopub.execute_input": "2022-03-31T11:20:32.458217Z",
     "iopub.status.busy": "2022-03-31T11:20:32.457314Z",
     "iopub.status.idle": "2022-03-31T11:20:32.467612Z",
     "shell.execute_reply": "2022-03-31T11:20:32.467060Z",
     "shell.execute_reply.started": "2022-03-31T11:12:02.286854Z"
    },
    "papermill": {
     "duration": 0.260494,
     "end_time": "2022-03-31T11:20:32.467763",
     "exception": false,
     "start_time": "2022-03-31T11:20:32.207269",
     "status": "completed"
    },
    "tags": []
   },
   "outputs": [],
   "source": [
    "df.fillna(0, inplace=True)\n",
    "# null values are replaced with zeros for the numerical data"
   ]
  },
  {
   "cell_type": "code",
   "execution_count": 38,
   "id": "b30febf3",
   "metadata": {
    "execution": {
     "iopub.execute_input": "2022-03-31T11:20:32.783951Z",
     "iopub.status.busy": "2022-03-31T11:20:32.738040Z",
     "iopub.status.idle": "2022-03-31T11:20:32.843702Z",
     "shell.execute_reply": "2022-03-31T11:20:32.843163Z",
     "shell.execute_reply.started": "2022-03-31T11:12:02.435334Z"
    },
    "papermill": {
     "duration": 0.266778,
     "end_time": "2022-03-31T11:20:32.843846",
     "exception": false,
     "start_time": "2022-03-31T11:20:32.577068",
     "status": "completed"
    },
    "tags": []
   },
   "outputs": [
    {
     "data": {
      "text/plain": [
       "state       0\n",
       "location    0\n",
       "type        0\n",
       "so2         0\n",
       "no2         0\n",
       "rspm        0\n",
       "spm         0\n",
       "pm2_5       0\n",
       "dtype: int64"
      ]
     },
     "execution_count": 38,
     "metadata": {},
     "output_type": "execute_result"
    }
   ],
   "source": [
    "df.isnull().sum()\n",
    "# Now we have successfully imputed null values which were present in the dataset"
   ]
  },
  {
   "cell_type": "code",
   "execution_count": 39,
   "id": "32a1ea25",
   "metadata": {
    "execution": {
     "iopub.execute_input": "2022-03-31T11:20:33.087341Z",
     "iopub.status.busy": "2022-03-31T11:20:33.080390Z",
     "iopub.status.idle": "2022-03-31T11:20:33.091950Z",
     "shell.execute_reply": "2022-03-31T11:20:33.091276Z",
     "shell.execute_reply.started": "2022-03-31T11:12:02.586742Z"
    },
    "papermill": {
     "duration": 0.138426,
     "end_time": "2022-03-31T11:20:33.092113",
     "exception": false,
     "start_time": "2022-03-31T11:20:32.953687",
     "status": "completed"
    },
    "tags": []
   },
   "outputs": [
    {
     "data": {
      "text/html": [
       "<div>\n",
       "<style scoped>\n",
       "    .dataframe tbody tr th:only-of-type {\n",
       "        vertical-align: middle;\n",
       "    }\n",
       "\n",
       "    .dataframe tbody tr th {\n",
       "        vertical-align: top;\n",
       "    }\n",
       "\n",
       "    .dataframe thead th {\n",
       "        text-align: right;\n",
       "    }\n",
       "</style>\n",
       "<table border=\"1\" class=\"dataframe\">\n",
       "  <thead>\n",
       "    <tr style=\"text-align: right;\">\n",
       "      <th></th>\n",
       "      <th>state</th>\n",
       "      <th>location</th>\n",
       "      <th>type</th>\n",
       "      <th>so2</th>\n",
       "      <th>no2</th>\n",
       "      <th>rspm</th>\n",
       "      <th>spm</th>\n",
       "      <th>pm2_5</th>\n",
       "    </tr>\n",
       "  </thead>\n",
       "  <tbody>\n",
       "    <tr>\n",
       "      <th>0</th>\n",
       "      <td>Andhra Pradesh</td>\n",
       "      <td>Hyderabad</td>\n",
       "      <td>Residential, Rural and other Areas</td>\n",
       "      <td>4.8</td>\n",
       "      <td>17.4</td>\n",
       "      <td>0.0</td>\n",
       "      <td>0.0</td>\n",
       "      <td>0.0</td>\n",
       "    </tr>\n",
       "    <tr>\n",
       "      <th>1</th>\n",
       "      <td>Andhra Pradesh</td>\n",
       "      <td>Hyderabad</td>\n",
       "      <td>Industrial Area</td>\n",
       "      <td>3.1</td>\n",
       "      <td>7.0</td>\n",
       "      <td>0.0</td>\n",
       "      <td>0.0</td>\n",
       "      <td>0.0</td>\n",
       "    </tr>\n",
       "    <tr>\n",
       "      <th>2</th>\n",
       "      <td>Andhra Pradesh</td>\n",
       "      <td>Hyderabad</td>\n",
       "      <td>Residential, Rural and other Areas</td>\n",
       "      <td>6.2</td>\n",
       "      <td>28.5</td>\n",
       "      <td>0.0</td>\n",
       "      <td>0.0</td>\n",
       "      <td>0.0</td>\n",
       "    </tr>\n",
       "    <tr>\n",
       "      <th>3</th>\n",
       "      <td>Andhra Pradesh</td>\n",
       "      <td>Hyderabad</td>\n",
       "      <td>Residential, Rural and other Areas</td>\n",
       "      <td>6.3</td>\n",
       "      <td>14.7</td>\n",
       "      <td>0.0</td>\n",
       "      <td>0.0</td>\n",
       "      <td>0.0</td>\n",
       "    </tr>\n",
       "    <tr>\n",
       "      <th>4</th>\n",
       "      <td>Andhra Pradesh</td>\n",
       "      <td>Hyderabad</td>\n",
       "      <td>Industrial Area</td>\n",
       "      <td>4.7</td>\n",
       "      <td>7.5</td>\n",
       "      <td>0.0</td>\n",
       "      <td>0.0</td>\n",
       "      <td>0.0</td>\n",
       "    </tr>\n",
       "    <tr>\n",
       "      <th>...</th>\n",
       "      <td>...</td>\n",
       "      <td>...</td>\n",
       "      <td>...</td>\n",
       "      <td>...</td>\n",
       "      <td>...</td>\n",
       "      <td>...</td>\n",
       "      <td>...</td>\n",
       "      <td>...</td>\n",
       "    </tr>\n",
       "    <tr>\n",
       "      <th>435737</th>\n",
       "      <td>West Bengal</td>\n",
       "      <td>ULUBERIA</td>\n",
       "      <td>RIRUO</td>\n",
       "      <td>22.0</td>\n",
       "      <td>50.0</td>\n",
       "      <td>143.0</td>\n",
       "      <td>0.0</td>\n",
       "      <td>0.0</td>\n",
       "    </tr>\n",
       "    <tr>\n",
       "      <th>435738</th>\n",
       "      <td>West Bengal</td>\n",
       "      <td>ULUBERIA</td>\n",
       "      <td>RIRUO</td>\n",
       "      <td>20.0</td>\n",
       "      <td>46.0</td>\n",
       "      <td>171.0</td>\n",
       "      <td>0.0</td>\n",
       "      <td>0.0</td>\n",
       "    </tr>\n",
       "    <tr>\n",
       "      <th>435739</th>\n",
       "      <td>andaman-and-nicobar-islands</td>\n",
       "      <td>Guwahati</td>\n",
       "      <td>Residential, Rural and other Areas</td>\n",
       "      <td>0.0</td>\n",
       "      <td>0.0</td>\n",
       "      <td>0.0</td>\n",
       "      <td>0.0</td>\n",
       "      <td>0.0</td>\n",
       "    </tr>\n",
       "    <tr>\n",
       "      <th>435740</th>\n",
       "      <td>Lakshadweep</td>\n",
       "      <td>Guwahati</td>\n",
       "      <td>Residential, Rural and other Areas</td>\n",
       "      <td>0.0</td>\n",
       "      <td>0.0</td>\n",
       "      <td>0.0</td>\n",
       "      <td>0.0</td>\n",
       "      <td>0.0</td>\n",
       "    </tr>\n",
       "    <tr>\n",
       "      <th>435741</th>\n",
       "      <td>Tripura</td>\n",
       "      <td>Guwahati</td>\n",
       "      <td>Residential, Rural and other Areas</td>\n",
       "      <td>0.0</td>\n",
       "      <td>0.0</td>\n",
       "      <td>0.0</td>\n",
       "      <td>0.0</td>\n",
       "      <td>0.0</td>\n",
       "    </tr>\n",
       "  </tbody>\n",
       "</table>\n",
       "<p>435742 rows × 8 columns</p>\n",
       "</div>"
      ],
      "text/plain": [
       "                              state   location  \\\n",
       "0                    Andhra Pradesh  Hyderabad   \n",
       "1                    Andhra Pradesh  Hyderabad   \n",
       "2                    Andhra Pradesh  Hyderabad   \n",
       "3                    Andhra Pradesh  Hyderabad   \n",
       "4                    Andhra Pradesh  Hyderabad   \n",
       "...                             ...        ...   \n",
       "435737                  West Bengal   ULUBERIA   \n",
       "435738                  West Bengal   ULUBERIA   \n",
       "435739  andaman-and-nicobar-islands   Guwahati   \n",
       "435740                  Lakshadweep   Guwahati   \n",
       "435741                      Tripura   Guwahati   \n",
       "\n",
       "                                      type   so2   no2   rspm  spm  pm2_5  \n",
       "0       Residential, Rural and other Areas   4.8  17.4    0.0  0.0    0.0  \n",
       "1                          Industrial Area   3.1   7.0    0.0  0.0    0.0  \n",
       "2       Residential, Rural and other Areas   6.2  28.5    0.0  0.0    0.0  \n",
       "3       Residential, Rural and other Areas   6.3  14.7    0.0  0.0    0.0  \n",
       "4                          Industrial Area   4.7   7.5    0.0  0.0    0.0  \n",
       "...                                    ...   ...   ...    ...  ...    ...  \n",
       "435737                               RIRUO  22.0  50.0  143.0  0.0    0.0  \n",
       "435738                               RIRUO  20.0  46.0  171.0  0.0    0.0  \n",
       "435739  Residential, Rural and other Areas   0.0   0.0    0.0  0.0    0.0  \n",
       "435740  Residential, Rural and other Areas   0.0   0.0    0.0  0.0    0.0  \n",
       "435741  Residential, Rural and other Areas   0.0   0.0    0.0  0.0    0.0  \n",
       "\n",
       "[435742 rows x 8 columns]"
      ]
     },
     "execution_count": 39,
     "metadata": {},
     "output_type": "execute_result"
    }
   ],
   "source": [
    "df\n",
    "# The following features are important for our machine learning models."
   ]
  },
  {
   "cell_type": "markdown",
   "id": "e2fb2a6e",
   "metadata": {
    "papermill": {
     "duration": 0.109804,
     "end_time": "2022-03-31T11:20:33.314807",
     "exception": false,
     "start_time": "2022-03-31T11:20:33.205003",
     "status": "completed"
    },
    "tags": []
   },
   "source": [
    "# CALCULATE AIR QUALITY INDEX FOR SO2 BASED ON FORMULA\n",
    "The air quality index is a piecewise linear function of the pollutant concentration. At the boundary between AQI categories, there is a discontinuous jump of one AQI unit. To convert from concentration to AQI this equation is used"
   ]
  },
  {
   "cell_type": "markdown",
   "id": "935f8fd7",
   "metadata": {
    "papermill": {
     "duration": 0.112757,
     "end_time": "2022-03-31T11:20:33.537703",
     "exception": false,
     "start_time": "2022-03-31T11:20:33.424946",
     "status": "completed"
    },
    "tags": []
   },
   "source": [
    "### Function to calculate so2 individual pollutant index(si)"
   ]
  },
  {
   "cell_type": "code",
   "execution_count": 45,
   "id": "5c1820a4",
   "metadata": {
    "execution": {
     "iopub.execute_input": "2022-03-31T11:20:33.771043Z",
     "iopub.status.busy": "2022-03-31T11:20:33.770315Z",
     "iopub.status.idle": "2022-03-31T11:20:34.071441Z",
     "shell.execute_reply": "2022-03-31T11:20:34.070859Z",
     "shell.execute_reply.started": "2022-03-31T11:12:02.609769Z"
    },
    "papermill": {
     "duration": 0.42081,
     "end_time": "2022-03-31T11:20:34.071614",
     "exception": false,
     "start_time": "2022-03-31T11:20:33.650804",
     "status": "completed"
    },
    "tags": []
   },
   "outputs": [
    {
     "data": {
      "text/html": [
       "<div>\n",
       "<style scoped>\n",
       "    .dataframe tbody tr th:only-of-type {\n",
       "        vertical-align: middle;\n",
       "    }\n",
       "\n",
       "    .dataframe tbody tr th {\n",
       "        vertical-align: top;\n",
       "    }\n",
       "\n",
       "    .dataframe thead th {\n",
       "        text-align: right;\n",
       "    }\n",
       "</style>\n",
       "<table border=\"1\" class=\"dataframe\">\n",
       "  <thead>\n",
       "    <tr style=\"text-align: right;\">\n",
       "      <th></th>\n",
       "      <th>so2</th>\n",
       "      <th>SOi</th>\n",
       "    </tr>\n",
       "  </thead>\n",
       "  <tbody>\n",
       "    <tr>\n",
       "      <th>0</th>\n",
       "      <td>4.8</td>\n",
       "      <td>6.000</td>\n",
       "    </tr>\n",
       "    <tr>\n",
       "      <th>1</th>\n",
       "      <td>3.1</td>\n",
       "      <td>3.875</td>\n",
       "    </tr>\n",
       "    <tr>\n",
       "      <th>2</th>\n",
       "      <td>6.2</td>\n",
       "      <td>7.750</td>\n",
       "    </tr>\n",
       "    <tr>\n",
       "      <th>3</th>\n",
       "      <td>6.3</td>\n",
       "      <td>7.875</td>\n",
       "    </tr>\n",
       "    <tr>\n",
       "      <th>4</th>\n",
       "      <td>4.7</td>\n",
       "      <td>5.875</td>\n",
       "    </tr>\n",
       "  </tbody>\n",
       "</table>\n",
       "</div>"
      ],
      "text/plain": [
       "   so2    SOi\n",
       "0  4.8  6.000\n",
       "1  3.1  3.875\n",
       "2  6.2  7.750\n",
       "3  6.3  7.875\n",
       "4  4.7  5.875"
      ]
     },
     "execution_count": 45,
     "metadata": {},
     "output_type": "execute_result"
    }
   ],
   "source": [
    "def cal_SOi(so2):\n",
    "    si=0\n",
    "    if (so2<=40):\n",
    "     si= so2*(50/40)\n",
    "    elif (so2>40 and so2<=80):\n",
    "     si= 50+(so2-40)*(50/40)\n",
    "    elif (so2>80 and so2<=380):\n",
    "     si= 100+(so2-80)*(100/300)\n",
    "    elif (so2>380 and so2<=800):\n",
    "     si= 200+(so2-380)*(100/420)\n",
    "    elif (so2>800 and so2<=1600):\n",
    "     si= 300+(so2-800)*(100/800)\n",
    "    elif (so2>1600):\n",
    "     si= 400+(so2-1600)*(100/800)\n",
    "    return si\n",
    "df['SOi']=df['so2'].apply(cal_SOi)\n",
    "data= df[['so2','SOi']]\n",
    "data.head()\n",
    "# calculating the individual pollutant index for so2(sulphur dioxide)"
   ]
  },
  {
   "cell_type": "markdown",
   "id": "d51cc577",
   "metadata": {
    "papermill": {
     "duration": 0.110458,
     "end_time": "2022-03-31T11:20:34.292719",
     "exception": false,
     "start_time": "2022-03-31T11:20:34.182261",
     "status": "completed"
    },
    "tags": []
   },
   "source": [
    "### Function to calculate no2 individual pollutant index(ni)"
   ]
  },
  {
   "cell_type": "code",
   "execution_count": 46,
   "id": "ed766e43",
   "metadata": {
    "execution": {
     "iopub.execute_input": "2022-03-31T11:20:34.543821Z",
     "iopub.status.busy": "2022-03-31T11:20:34.543107Z",
     "iopub.status.idle": "2022-03-31T11:20:34.845908Z",
     "shell.execute_reply": "2022-03-31T11:20:34.845262Z",
     "shell.execute_reply.started": "2022-03-31T11:12:02.907496Z"
    },
    "papermill": {
     "duration": 0.442961,
     "end_time": "2022-03-31T11:20:34.846068",
     "exception": false,
     "start_time": "2022-03-31T11:20:34.403107",
     "status": "completed"
    },
    "tags": []
   },
   "outputs": [
    {
     "data": {
      "text/html": [
       "<div>\n",
       "<style scoped>\n",
       "    .dataframe tbody tr th:only-of-type {\n",
       "        vertical-align: middle;\n",
       "    }\n",
       "\n",
       "    .dataframe tbody tr th {\n",
       "        vertical-align: top;\n",
       "    }\n",
       "\n",
       "    .dataframe thead th {\n",
       "        text-align: right;\n",
       "    }\n",
       "</style>\n",
       "<table border=\"1\" class=\"dataframe\">\n",
       "  <thead>\n",
       "    <tr style=\"text-align: right;\">\n",
       "      <th></th>\n",
       "      <th>no2</th>\n",
       "      <th>Noi</th>\n",
       "    </tr>\n",
       "  </thead>\n",
       "  <tbody>\n",
       "    <tr>\n",
       "      <th>0</th>\n",
       "      <td>17.4</td>\n",
       "      <td>21.750</td>\n",
       "    </tr>\n",
       "    <tr>\n",
       "      <th>1</th>\n",
       "      <td>7.0</td>\n",
       "      <td>8.750</td>\n",
       "    </tr>\n",
       "    <tr>\n",
       "      <th>2</th>\n",
       "      <td>28.5</td>\n",
       "      <td>35.625</td>\n",
       "    </tr>\n",
       "    <tr>\n",
       "      <th>3</th>\n",
       "      <td>14.7</td>\n",
       "      <td>18.375</td>\n",
       "    </tr>\n",
       "    <tr>\n",
       "      <th>4</th>\n",
       "      <td>7.5</td>\n",
       "      <td>9.375</td>\n",
       "    </tr>\n",
       "  </tbody>\n",
       "</table>\n",
       "</div>"
      ],
      "text/plain": [
       "    no2     Noi\n",
       "0  17.4  21.750\n",
       "1   7.0   8.750\n",
       "2  28.5  35.625\n",
       "3  14.7  18.375\n",
       "4   7.5   9.375"
      ]
     },
     "execution_count": 46,
     "metadata": {},
     "output_type": "execute_result"
    }
   ],
   "source": [
    "def cal_Noi(no2):\n",
    "    ni=0\n",
    "    if(no2<=40):\n",
    "     ni= no2*50/40\n",
    "    elif(no2>40 and no2<=80):\n",
    "     ni= 50+(no2-40)*(50/40)\n",
    "    elif(no2>80 and no2<=180):\n",
    "     ni= 100+(no2-80)*(100/100)\n",
    "    elif(no2>180 and no2<=280):\n",
    "     ni= 200+(no2-180)*(100/100)\n",
    "    elif(no2>280 and no2<=400):\n",
    "     ni= 300+(no2-280)*(100/120)\n",
    "    else:\n",
    "     ni= 400+(no2-400)*(100/120)\n",
    "    return ni\n",
    "df['Noi']=df['no2'].apply(cal_Noi)\n",
    "data= df[['no2','Noi']]\n",
    "data.head()\n",
    "# calculating the individual pollutant index for no2(nitrogen dioxide)"
   ]
  },
  {
   "cell_type": "markdown",
   "id": "c48cf394",
   "metadata": {
    "papermill": {
     "duration": 0.120114,
     "end_time": "2022-03-31T11:20:35.090820",
     "exception": false,
     "start_time": "2022-03-31T11:20:34.970706",
     "status": "completed"
    },
    "tags": []
   },
   "source": [
    "### Function to calculate rspm individual pollutant index(rpi)"
   ]
  },
  {
   "cell_type": "code",
   "execution_count": 47,
   "id": "d2185971",
   "metadata": {
    "execution": {
     "iopub.execute_input": "2022-03-31T11:20:35.337271Z",
     "iopub.status.busy": "2022-03-31T11:20:35.335986Z",
     "iopub.status.idle": "2022-03-31T11:20:35.619542Z",
     "shell.execute_reply": "2022-03-31T11:20:35.618998Z",
     "shell.execute_reply.started": "2022-03-31T11:12:03.220174Z"
    },
    "papermill": {
     "duration": 0.410901,
     "end_time": "2022-03-31T11:20:35.619690",
     "exception": false,
     "start_time": "2022-03-31T11:20:35.208789",
     "status": "completed"
    },
    "tags": []
   },
   "outputs": [
    {
     "data": {
      "text/html": [
       "<div>\n",
       "<style scoped>\n",
       "    .dataframe tbody tr th:only-of-type {\n",
       "        vertical-align: middle;\n",
       "    }\n",
       "\n",
       "    .dataframe tbody tr th {\n",
       "        vertical-align: top;\n",
       "    }\n",
       "\n",
       "    .dataframe thead th {\n",
       "        text-align: right;\n",
       "    }\n",
       "</style>\n",
       "<table border=\"1\" class=\"dataframe\">\n",
       "  <thead>\n",
       "    <tr style=\"text-align: right;\">\n",
       "      <th></th>\n",
       "      <th>rspm</th>\n",
       "      <th>Rpi</th>\n",
       "    </tr>\n",
       "  </thead>\n",
       "  <tbody>\n",
       "    <tr>\n",
       "      <th>0</th>\n",
       "      <td>0.0</td>\n",
       "      <td>0.0</td>\n",
       "    </tr>\n",
       "    <tr>\n",
       "      <th>1</th>\n",
       "      <td>0.0</td>\n",
       "      <td>0.0</td>\n",
       "    </tr>\n",
       "    <tr>\n",
       "      <th>2</th>\n",
       "      <td>0.0</td>\n",
       "      <td>0.0</td>\n",
       "    </tr>\n",
       "    <tr>\n",
       "      <th>3</th>\n",
       "      <td>0.0</td>\n",
       "      <td>0.0</td>\n",
       "    </tr>\n",
       "    <tr>\n",
       "      <th>4</th>\n",
       "      <td>0.0</td>\n",
       "      <td>0.0</td>\n",
       "    </tr>\n",
       "  </tbody>\n",
       "</table>\n",
       "</div>"
      ],
      "text/plain": [
       "   rspm  Rpi\n",
       "0   0.0  0.0\n",
       "1   0.0  0.0\n",
       "2   0.0  0.0\n",
       "3   0.0  0.0\n",
       "4   0.0  0.0"
      ]
     },
     "execution_count": 47,
     "metadata": {},
     "output_type": "execute_result"
    }
   ],
   "source": [
    "def cal_RSPMI(rspm):\n",
    "    rpi=0\n",
    "    if(rpi<=30):\n",
    "     rpi=rpi*50/30\n",
    "    elif(rpi>30 and rpi<=60):\n",
    "     rpi=50+(rpi-30)*50/30\n",
    "    elif(rpi>60 and rpi<=90):\n",
    "     rpi=100+(rpi-60)*100/30\n",
    "    elif(rpi>90 and rpi<=120):\n",
    "     rpi=200+(rpi-90)*100/30\n",
    "    elif(rpi>120 and rpi<=250):\n",
    "     rpi=300+(rpi-120)*(100/130)\n",
    "    else:\n",
    "     rpi=400+(rpi-250)*(100/130)\n",
    "    return rpi\n",
    "df['Rpi']=df['rspm'].apply(cal_RSPMI)\n",
    "data= df[['rspm','Rpi']]\n",
    "data.head()\n",
    "# calculating the individual pollutant index for rspm(respirable suspended particualte matter concentration)"
   ]
  },
  {
   "cell_type": "markdown",
   "id": "81156bb5",
   "metadata": {
    "papermill": {
     "duration": 0.11753,
     "end_time": "2022-03-31T11:20:35.854003",
     "exception": false,
     "start_time": "2022-03-31T11:20:35.736473",
     "status": "completed"
    },
    "tags": []
   },
   "source": [
    "### Function to calculate spm individual pollutant index(spi)"
   ]
  },
  {
   "cell_type": "code",
   "execution_count": 48,
   "id": "c452ad6a",
   "metadata": {
    "execution": {
     "iopub.execute_input": "2022-03-31T11:20:36.092021Z",
     "iopub.status.busy": "2022-03-31T11:20:36.091290Z",
     "iopub.status.idle": "2022-03-31T11:20:36.455847Z",
     "shell.execute_reply": "2022-03-31T11:20:36.455175Z",
     "shell.execute_reply.started": "2022-03-31T11:12:03.498616Z"
    },
    "papermill": {
     "duration": 0.483833,
     "end_time": "2022-03-31T11:20:36.455987",
     "exception": false,
     "start_time": "2022-03-31T11:20:35.972154",
     "status": "completed"
    },
    "tags": []
   },
   "outputs": [
    {
     "data": {
      "text/html": [
       "<div>\n",
       "<style scoped>\n",
       "    .dataframe tbody tr th:only-of-type {\n",
       "        vertical-align: middle;\n",
       "    }\n",
       "\n",
       "    .dataframe tbody tr th {\n",
       "        vertical-align: top;\n",
       "    }\n",
       "\n",
       "    .dataframe thead th {\n",
       "        text-align: right;\n",
       "    }\n",
       "</style>\n",
       "<table border=\"1\" class=\"dataframe\">\n",
       "  <thead>\n",
       "    <tr style=\"text-align: right;\">\n",
       "      <th></th>\n",
       "      <th>spm</th>\n",
       "      <th>SPMi</th>\n",
       "    </tr>\n",
       "  </thead>\n",
       "  <tbody>\n",
       "    <tr>\n",
       "      <th>0</th>\n",
       "      <td>0.0</td>\n",
       "      <td>0.0</td>\n",
       "    </tr>\n",
       "    <tr>\n",
       "      <th>1</th>\n",
       "      <td>0.0</td>\n",
       "      <td>0.0</td>\n",
       "    </tr>\n",
       "    <tr>\n",
       "      <th>2</th>\n",
       "      <td>0.0</td>\n",
       "      <td>0.0</td>\n",
       "    </tr>\n",
       "    <tr>\n",
       "      <th>3</th>\n",
       "      <td>0.0</td>\n",
       "      <td>0.0</td>\n",
       "    </tr>\n",
       "    <tr>\n",
       "      <th>4</th>\n",
       "      <td>0.0</td>\n",
       "      <td>0.0</td>\n",
       "    </tr>\n",
       "  </tbody>\n",
       "</table>\n",
       "</div>"
      ],
      "text/plain": [
       "   spm  SPMi\n",
       "0  0.0   0.0\n",
       "1  0.0   0.0\n",
       "2  0.0   0.0\n",
       "3  0.0   0.0\n",
       "4  0.0   0.0"
      ]
     },
     "execution_count": 48,
     "metadata": {},
     "output_type": "execute_result"
    }
   ],
   "source": [
    "def cal_SPMi(spm):\n",
    "    spi=0\n",
    "    if(spm<=50):\n",
    "     spi=spm*50/50\n",
    "    elif(spm>50 and spm<=100):\n",
    "     spi=50+(spm-50)*(50/50)\n",
    "    elif(spm>100 and spm<=250):\n",
    "     spi= 100+(spm-100)*(100/150)\n",
    "    elif(spm>250 and spm<=350):\n",
    "     spi=200+(spm-250)*(100/100)\n",
    "    elif(spm>350 and spm<=430):\n",
    "     spi=300+(spm-350)*(100/80)\n",
    "    else:\n",
    "     spi=400+(spm-430)*(100/430)\n",
    "    return spi\n",
    "   \n",
    "df['SPMi']=df['spm'].apply(cal_SPMi)\n",
    "data= df[['spm','SPMi']]\n",
    "data.head()\n",
    "# calculating the individual pollutant index for spm(suspended particulate matter)"
   ]
  },
  {
   "cell_type": "markdown",
   "id": "a6612b49",
   "metadata": {
    "papermill": {
     "duration": 0.112734,
     "end_time": "2022-03-31T11:20:36.683491",
     "exception": false,
     "start_time": "2022-03-31T11:20:36.570757",
     "status": "completed"
    },
    "tags": []
   },
   "source": [
    "### function to calculate the air quality index (AQI) of every data value"
   ]
  },
  {
   "cell_type": "code",
   "execution_count": 49,
   "id": "b4a5ef1d",
   "metadata": {
    "execution": {
     "iopub.execute_input": "2022-03-31T11:20:36.912694Z",
     "iopub.status.busy": "2022-03-31T11:20:36.912034Z",
     "iopub.status.idle": "2022-03-31T11:20:49.625435Z",
     "shell.execute_reply": "2022-03-31T11:20:49.625889Z",
     "shell.execute_reply.started": "2022-03-31T11:12:03.871875Z"
    },
    "papermill": {
     "duration": 12.829979,
     "end_time": "2022-03-31T11:20:49.626070",
     "exception": false,
     "start_time": "2022-03-31T11:20:36.796091",
     "status": "completed"
    },
    "tags": []
   },
   "outputs": [
    {
     "data": {
      "text/html": [
       "<div>\n",
       "<style scoped>\n",
       "    .dataframe tbody tr th:only-of-type {\n",
       "        vertical-align: middle;\n",
       "    }\n",
       "\n",
       "    .dataframe tbody tr th {\n",
       "        vertical-align: top;\n",
       "    }\n",
       "\n",
       "    .dataframe thead th {\n",
       "        text-align: right;\n",
       "    }\n",
       "</style>\n",
       "<table border=\"1\" class=\"dataframe\">\n",
       "  <thead>\n",
       "    <tr style=\"text-align: right;\">\n",
       "      <th></th>\n",
       "      <th>state</th>\n",
       "      <th>SOi</th>\n",
       "      <th>Noi</th>\n",
       "      <th>Rpi</th>\n",
       "      <th>SPMi</th>\n",
       "      <th>AQI</th>\n",
       "    </tr>\n",
       "  </thead>\n",
       "  <tbody>\n",
       "    <tr>\n",
       "      <th>0</th>\n",
       "      <td>Andhra Pradesh</td>\n",
       "      <td>6.000</td>\n",
       "      <td>21.750</td>\n",
       "      <td>0.0</td>\n",
       "      <td>0.0</td>\n",
       "      <td>21.750</td>\n",
       "    </tr>\n",
       "    <tr>\n",
       "      <th>1</th>\n",
       "      <td>Andhra Pradesh</td>\n",
       "      <td>3.875</td>\n",
       "      <td>8.750</td>\n",
       "      <td>0.0</td>\n",
       "      <td>0.0</td>\n",
       "      <td>8.750</td>\n",
       "    </tr>\n",
       "    <tr>\n",
       "      <th>2</th>\n",
       "      <td>Andhra Pradesh</td>\n",
       "      <td>7.750</td>\n",
       "      <td>35.625</td>\n",
       "      <td>0.0</td>\n",
       "      <td>0.0</td>\n",
       "      <td>35.625</td>\n",
       "    </tr>\n",
       "    <tr>\n",
       "      <th>3</th>\n",
       "      <td>Andhra Pradesh</td>\n",
       "      <td>7.875</td>\n",
       "      <td>18.375</td>\n",
       "      <td>0.0</td>\n",
       "      <td>0.0</td>\n",
       "      <td>18.375</td>\n",
       "    </tr>\n",
       "    <tr>\n",
       "      <th>4</th>\n",
       "      <td>Andhra Pradesh</td>\n",
       "      <td>5.875</td>\n",
       "      <td>9.375</td>\n",
       "      <td>0.0</td>\n",
       "      <td>0.0</td>\n",
       "      <td>9.375</td>\n",
       "    </tr>\n",
       "  </tbody>\n",
       "</table>\n",
       "</div>"
      ],
      "text/plain": [
       "            state    SOi     Noi  Rpi  SPMi     AQI\n",
       "0  Andhra Pradesh  6.000  21.750  0.0   0.0  21.750\n",
       "1  Andhra Pradesh  3.875   8.750  0.0   0.0   8.750\n",
       "2  Andhra Pradesh  7.750  35.625  0.0   0.0  35.625\n",
       "3  Andhra Pradesh  7.875  18.375  0.0   0.0  18.375\n",
       "4  Andhra Pradesh  5.875   9.375  0.0   0.0   9.375"
      ]
     },
     "execution_count": 49,
     "metadata": {},
     "output_type": "execute_result"
    }
   ],
   "source": [
    "def cal_aqi(si,ni,rspmi,spmi):\n",
    "    aqi=0\n",
    "    if(si>ni and si>rspmi and si>spmi):\n",
    "     aqi=si\n",
    "    if(ni>si and ni>rspmi and ni>spmi):\n",
    "     aqi=ni\n",
    "    if(rspmi>si and rspmi>ni and rspmi>spmi):\n",
    "     aqi=rspmi\n",
    "    if(spmi>si and spmi>ni and spmi>rspmi):\n",
    "     aqi=spmi\n",
    "    return aqi\n",
    "\n",
    "df['AQI']=df.apply(lambda x:cal_aqi(x['SOi'],x['Noi'],x['Rpi'],x['SPMi']),axis=1)\n",
    "data= df[['state','SOi','Noi','Rpi','SPMi','AQI']]\n",
    "data.head()\n",
    "# Caluclating the Air Quality Index."
   ]
  },
  {
   "cell_type": "code",
   "execution_count": 51,
   "id": "12381865",
   "metadata": {
    "execution": {
     "iopub.execute_input": "2022-03-31T11:20:49.861885Z",
     "iopub.status.busy": "2022-03-31T11:20:49.861147Z",
     "iopub.status.idle": "2022-03-31T11:20:50.087579Z",
     "shell.execute_reply": "2022-03-31T11:20:50.088097Z",
     "shell.execute_reply.started": "2022-03-31T11:12:16.325157Z"
    },
    "papermill": {
     "duration": 0.349057,
     "end_time": "2022-03-31T11:20:50.088265",
     "exception": false,
     "start_time": "2022-03-31T11:20:49.739208",
     "status": "completed"
    },
    "tags": []
   },
   "outputs": [
    {
     "data": {
      "text/html": [
       "<div>\n",
       "<style scoped>\n",
       "    .dataframe tbody tr th:only-of-type {\n",
       "        vertical-align: middle;\n",
       "    }\n",
       "\n",
       "    .dataframe tbody tr th {\n",
       "        vertical-align: top;\n",
       "    }\n",
       "\n",
       "    .dataframe thead th {\n",
       "        text-align: right;\n",
       "    }\n",
       "</style>\n",
       "<table border=\"1\" class=\"dataframe\">\n",
       "  <thead>\n",
       "    <tr style=\"text-align: right;\">\n",
       "      <th></th>\n",
       "      <th>state</th>\n",
       "      <th>location</th>\n",
       "      <th>type</th>\n",
       "      <th>so2</th>\n",
       "      <th>no2</th>\n",
       "      <th>rspm</th>\n",
       "      <th>spm</th>\n",
       "      <th>pm2_5</th>\n",
       "      <th>SOi</th>\n",
       "      <th>Noi</th>\n",
       "      <th>Rpi</th>\n",
       "      <th>SPMi</th>\n",
       "      <th>AQI</th>\n",
       "      <th>AQI_Range</th>\n",
       "    </tr>\n",
       "  </thead>\n",
       "  <tbody>\n",
       "    <tr>\n",
       "      <th>0</th>\n",
       "      <td>Andhra Pradesh</td>\n",
       "      <td>Hyderabad</td>\n",
       "      <td>Residential, Rural and other Areas</td>\n",
       "      <td>4.8</td>\n",
       "      <td>17.4</td>\n",
       "      <td>0.0</td>\n",
       "      <td>0.0</td>\n",
       "      <td>0.0</td>\n",
       "      <td>6.000</td>\n",
       "      <td>21.750</td>\n",
       "      <td>0.0</td>\n",
       "      <td>0.0</td>\n",
       "      <td>21.750</td>\n",
       "      <td>Good</td>\n",
       "    </tr>\n",
       "    <tr>\n",
       "      <th>1</th>\n",
       "      <td>Andhra Pradesh</td>\n",
       "      <td>Hyderabad</td>\n",
       "      <td>Industrial Area</td>\n",
       "      <td>3.1</td>\n",
       "      <td>7.0</td>\n",
       "      <td>0.0</td>\n",
       "      <td>0.0</td>\n",
       "      <td>0.0</td>\n",
       "      <td>3.875</td>\n",
       "      <td>8.750</td>\n",
       "      <td>0.0</td>\n",
       "      <td>0.0</td>\n",
       "      <td>8.750</td>\n",
       "      <td>Good</td>\n",
       "    </tr>\n",
       "    <tr>\n",
       "      <th>2</th>\n",
       "      <td>Andhra Pradesh</td>\n",
       "      <td>Hyderabad</td>\n",
       "      <td>Residential, Rural and other Areas</td>\n",
       "      <td>6.2</td>\n",
       "      <td>28.5</td>\n",
       "      <td>0.0</td>\n",
       "      <td>0.0</td>\n",
       "      <td>0.0</td>\n",
       "      <td>7.750</td>\n",
       "      <td>35.625</td>\n",
       "      <td>0.0</td>\n",
       "      <td>0.0</td>\n",
       "      <td>35.625</td>\n",
       "      <td>Good</td>\n",
       "    </tr>\n",
       "    <tr>\n",
       "      <th>3</th>\n",
       "      <td>Andhra Pradesh</td>\n",
       "      <td>Hyderabad</td>\n",
       "      <td>Residential, Rural and other Areas</td>\n",
       "      <td>6.3</td>\n",
       "      <td>14.7</td>\n",
       "      <td>0.0</td>\n",
       "      <td>0.0</td>\n",
       "      <td>0.0</td>\n",
       "      <td>7.875</td>\n",
       "      <td>18.375</td>\n",
       "      <td>0.0</td>\n",
       "      <td>0.0</td>\n",
       "      <td>18.375</td>\n",
       "      <td>Good</td>\n",
       "    </tr>\n",
       "    <tr>\n",
       "      <th>4</th>\n",
       "      <td>Andhra Pradesh</td>\n",
       "      <td>Hyderabad</td>\n",
       "      <td>Industrial Area</td>\n",
       "      <td>4.7</td>\n",
       "      <td>7.5</td>\n",
       "      <td>0.0</td>\n",
       "      <td>0.0</td>\n",
       "      <td>0.0</td>\n",
       "      <td>5.875</td>\n",
       "      <td>9.375</td>\n",
       "      <td>0.0</td>\n",
       "      <td>0.0</td>\n",
       "      <td>9.375</td>\n",
       "      <td>Good</td>\n",
       "    </tr>\n",
       "  </tbody>\n",
       "</table>\n",
       "</div>"
      ],
      "text/plain": [
       "            state   location                                type  so2   no2  \\\n",
       "0  Andhra Pradesh  Hyderabad  Residential, Rural and other Areas  4.8  17.4   \n",
       "1  Andhra Pradesh  Hyderabad                     Industrial Area  3.1   7.0   \n",
       "2  Andhra Pradesh  Hyderabad  Residential, Rural and other Areas  6.2  28.5   \n",
       "3  Andhra Pradesh  Hyderabad  Residential, Rural and other Areas  6.3  14.7   \n",
       "4  Andhra Pradesh  Hyderabad                     Industrial Area  4.7   7.5   \n",
       "\n",
       "   rspm  spm  pm2_5    SOi     Noi  Rpi  SPMi     AQI AQI_Range  \n",
       "0   0.0  0.0    0.0  6.000  21.750  0.0   0.0  21.750      Good  \n",
       "1   0.0  0.0    0.0  3.875   8.750  0.0   0.0   8.750      Good  \n",
       "2   0.0  0.0    0.0  7.750  35.625  0.0   0.0  35.625      Good  \n",
       "3   0.0  0.0    0.0  7.875  18.375  0.0   0.0  18.375      Good  \n",
       "4   0.0  0.0    0.0  5.875   9.375  0.0   0.0   9.375      Good  "
      ]
     },
     "execution_count": 51,
     "metadata": {},
     "output_type": "execute_result"
    }
   ],
   "source": [
    "def AQI_Range(x):\n",
    "    if x<=50:\n",
    "        return \"Good\"\n",
    "    elif x>50 and x<=100:\n",
    "        return \"Moderate\"\n",
    "    elif x>100 and x<=200:\n",
    "        return \"Poor\"\n",
    "    elif x>200 and x<=300:\n",
    "        return \"Unhealthy\"\n",
    "    elif x>300 and x<=400:\n",
    "        return \"Very unhealthy\"\n",
    "    elif x>400:\n",
    "        return \"Hazardous\"\n",
    "\n",
    "df['AQI_Range'] = df['AQI'] .apply(AQI_Range)\n",
    "df.head()\n",
    "# Using threshold values to classify a particular values as good, moderate, poor, unhealthy, very unhealthy and Hazardous"
   ]
  },
  {
   "cell_type": "code",
   "execution_count": 52,
   "id": "7bf77384",
   "metadata": {
    "execution": {
     "iopub.execute_input": "2022-03-31T11:20:50.328675Z",
     "iopub.status.busy": "2022-03-31T11:20:50.328009Z",
     "iopub.status.idle": "2022-03-31T11:20:50.385014Z",
     "shell.execute_reply": "2022-03-31T11:20:50.384524Z",
     "shell.execute_reply.started": "2022-03-31T11:12:16.556642Z"
    },
    "papermill": {
     "duration": 0.172357,
     "end_time": "2022-03-31T11:20:50.385152",
     "exception": false,
     "start_time": "2022-03-31T11:20:50.212795",
     "status": "completed"
    },
    "tags": []
   },
   "outputs": [
    {
     "data": {
      "text/plain": [
       "Good              219643\n",
       "Poor               93272\n",
       "Moderate           56571\n",
       "Unhealthy          31733\n",
       "Hazardous          18700\n",
       "Very unhealthy     15823\n",
       "Name: AQI_Range, dtype: int64"
      ]
     },
     "execution_count": 52,
     "metadata": {},
     "output_type": "execute_result"
    }
   ],
   "source": [
    "df['AQI_Range'].value_counts()\n",
    "# These are the counts of values present in the AQI_Range column."
   ]
  },
  {
   "cell_type": "markdown",
   "id": "06ff0c1b",
   "metadata": {
    "papermill": {
     "duration": 0.113274,
     "end_time": "2022-03-31T11:20:50.611681",
     "exception": false,
     "start_time": "2022-03-31T11:20:50.498407",
     "status": "completed"
    },
    "tags": []
   },
   "source": [
    "### Splitting the dataset into Dependent and Independent columns"
   ]
  },
  {
   "cell_type": "code",
   "execution_count": 53,
   "id": "82038c01",
   "metadata": {
    "execution": {
     "iopub.execute_input": "2022-03-31T11:20:50.845336Z",
     "iopub.status.busy": "2022-03-31T11:20:50.844679Z",
     "iopub.status.idle": "2022-03-31T11:20:50.876231Z",
     "shell.execute_reply": "2022-03-31T11:20:50.875726Z",
     "shell.execute_reply.started": "2022-03-31T11:12:16.617180Z"
    },
    "papermill": {
     "duration": 0.150442,
     "end_time": "2022-03-31T11:20:50.876369",
     "exception": false,
     "start_time": "2022-03-31T11:20:50.725927",
     "status": "completed"
    },
    "tags": []
   },
   "outputs": [
    {
     "data": {
      "text/html": [
       "<div>\n",
       "<style scoped>\n",
       "    .dataframe tbody tr th:only-of-type {\n",
       "        vertical-align: middle;\n",
       "    }\n",
       "\n",
       "    .dataframe tbody tr th {\n",
       "        vertical-align: top;\n",
       "    }\n",
       "\n",
       "    .dataframe thead th {\n",
       "        text-align: right;\n",
       "    }\n",
       "</style>\n",
       "<table border=\"1\" class=\"dataframe\">\n",
       "  <thead>\n",
       "    <tr style=\"text-align: right;\">\n",
       "      <th></th>\n",
       "      <th>SOi</th>\n",
       "      <th>Noi</th>\n",
       "      <th>Rpi</th>\n",
       "      <th>SPMi</th>\n",
       "    </tr>\n",
       "  </thead>\n",
       "  <tbody>\n",
       "    <tr>\n",
       "      <th>0</th>\n",
       "      <td>6.000</td>\n",
       "      <td>21.750</td>\n",
       "      <td>0.0</td>\n",
       "      <td>0.0</td>\n",
       "    </tr>\n",
       "    <tr>\n",
       "      <th>1</th>\n",
       "      <td>3.875</td>\n",
       "      <td>8.750</td>\n",
       "      <td>0.0</td>\n",
       "      <td>0.0</td>\n",
       "    </tr>\n",
       "    <tr>\n",
       "      <th>2</th>\n",
       "      <td>7.750</td>\n",
       "      <td>35.625</td>\n",
       "      <td>0.0</td>\n",
       "      <td>0.0</td>\n",
       "    </tr>\n",
       "    <tr>\n",
       "      <th>3</th>\n",
       "      <td>7.875</td>\n",
       "      <td>18.375</td>\n",
       "      <td>0.0</td>\n",
       "      <td>0.0</td>\n",
       "    </tr>\n",
       "    <tr>\n",
       "      <th>4</th>\n",
       "      <td>5.875</td>\n",
       "      <td>9.375</td>\n",
       "      <td>0.0</td>\n",
       "      <td>0.0</td>\n",
       "    </tr>\n",
       "  </tbody>\n",
       "</table>\n",
       "</div>"
      ],
      "text/plain": [
       "     SOi     Noi  Rpi  SPMi\n",
       "0  6.000  21.750  0.0   0.0\n",
       "1  3.875   8.750  0.0   0.0\n",
       "2  7.750  35.625  0.0   0.0\n",
       "3  7.875  18.375  0.0   0.0\n",
       "4  5.875   9.375  0.0   0.0"
      ]
     },
     "execution_count": 53,
     "metadata": {},
     "output_type": "execute_result"
    }
   ],
   "source": [
    "X=df[['SOi','Noi','Rpi','SPMi']]\n",
    "Y=df['AQI']\n",
    "X.head()\n",
    "# we only select columns like soi, noi, rpi, spmi"
   ]
  },
  {
   "cell_type": "code",
   "execution_count": 54,
   "id": "9b4acc05",
   "metadata": {
    "execution": {
     "iopub.execute_input": "2022-03-31T11:20:51.112898Z",
     "iopub.status.busy": "2022-03-31T11:20:51.112224Z",
     "iopub.status.idle": "2022-03-31T11:20:51.121618Z",
     "shell.execute_reply": "2022-03-31T11:20:51.122412Z",
     "shell.execute_reply.started": "2022-03-31T11:12:16.652232Z"
    },
    "papermill": {
     "duration": 0.129659,
     "end_time": "2022-03-31T11:20:51.122698",
     "exception": false,
     "start_time": "2022-03-31T11:20:50.993039",
     "status": "completed"
    },
    "tags": []
   },
   "outputs": [
    {
     "data": {
      "text/plain": [
       "0    21.750\n",
       "1     8.750\n",
       "2    35.625\n",
       "3    18.375\n",
       "4     9.375\n",
       "Name: AQI, dtype: float64"
      ]
     },
     "execution_count": 54,
     "metadata": {},
     "output_type": "execute_result"
    }
   ],
   "source": [
    "Y.head()\n",
    "# the AQI column is the target column"
   ]
  },
  {
   "cell_type": "code",
   "execution_count": 55,
   "id": "458b8bd7",
   "metadata": {
    "execution": {
     "iopub.execute_input": "2022-03-31T11:20:51.371562Z",
     "iopub.status.busy": "2022-03-31T11:20:51.370897Z",
     "iopub.status.idle": "2022-03-31T11:20:51.427837Z",
     "shell.execute_reply": "2022-03-31T11:20:51.428314Z",
     "shell.execute_reply.started": "2022-03-31T11:12:16.661672Z"
    },
    "papermill": {
     "duration": 0.174551,
     "end_time": "2022-03-31T11:20:51.428529",
     "exception": false,
     "start_time": "2022-03-31T11:20:51.253978",
     "status": "completed"
    },
    "tags": []
   },
   "outputs": [
    {
     "name": "stdout",
     "output_type": "stream",
     "text": [
      "(348593, 4) (87149, 4) (348593,) (87149,)\n"
     ]
    }
   ],
   "source": [
    "X_train,X_test,Y_train,Y_test=train_test_split(X,Y,test_size=0.2,random_state=70)\n",
    "print(X_train.shape,X_test.shape,Y_train.shape,Y_test.shape)\n",
    "# splitting the data into training and testing data"
   ]
  },
  {
   "cell_type": "markdown",
   "id": "520dd8d2",
   "metadata": {
    "papermill": {
     "duration": 0.116353,
     "end_time": "2022-03-31T11:20:52.803465",
     "exception": false,
     "start_time": "2022-03-31T11:20:52.687112",
     "status": "completed"
    },
    "tags": []
   },
   "source": [
    "### Decision Tree Regressor"
   ]
  },
  {
   "cell_type": "code",
   "execution_count": 56,
   "id": "39944e55",
   "metadata": {
    "execution": {
     "iopub.execute_input": "2022-03-31T11:20:53.048492Z",
     "iopub.status.busy": "2022-03-31T11:20:53.047389Z",
     "iopub.status.idle": "2022-03-31T11:20:53.760148Z",
     "shell.execute_reply": "2022-03-31T11:20:53.759522Z",
     "shell.execute_reply.started": "2022-03-31T11:12:16.828753Z"
    },
    "papermill": {
     "duration": 0.835738,
     "end_time": "2022-03-31T11:20:53.760285",
     "exception": false,
     "start_time": "2022-03-31T11:20:52.924547",
     "status": "completed"
    },
    "tags": []
   },
   "outputs": [
    {
     "data": {
      "text/plain": [
       "DecisionTreeRegressor()"
      ]
     },
     "execution_count": 56,
     "metadata": {},
     "output_type": "execute_result"
    }
   ],
   "source": [
    "DT=DecisionTreeRegressor()\n",
    "DT.fit(X_train,Y_train)"
   ]
  },
  {
   "cell_type": "code",
   "execution_count": 57,
   "id": "cf6837bf",
   "metadata": {
    "execution": {
     "iopub.execute_input": "2022-03-31T11:20:53.997347Z",
     "iopub.status.busy": "2022-03-31T11:20:53.996682Z",
     "iopub.status.idle": "2022-03-31T11:20:54.080865Z",
     "shell.execute_reply": "2022-03-31T11:20:54.081411Z",
     "shell.execute_reply.started": "2022-03-31T11:12:17.563070Z"
    },
    "papermill": {
     "duration": 0.204587,
     "end_time": "2022-03-31T11:20:54.081612",
     "exception": false,
     "start_time": "2022-03-31T11:20:53.877025",
     "status": "completed"
    },
    "tags": []
   },
   "outputs": [],
   "source": [
    "#predicting train\n",
    "train_preds=DT.predict(X_train)\n",
    "#predicting on test\n",
    "test_preds=DT.predict(X_test)"
   ]
  },
  {
   "cell_type": "code",
   "execution_count": 58,
   "id": "c8e00f96",
   "metadata": {
    "execution": {
     "iopub.execute_input": "2022-03-31T11:20:54.319356Z",
     "iopub.status.busy": "2022-03-31T11:20:54.318660Z",
     "iopub.status.idle": "2022-03-31T11:20:54.414843Z",
     "shell.execute_reply": "2022-03-31T11:20:54.414287Z",
     "shell.execute_reply.started": "2022-03-31T11:12:17.649976Z"
    },
    "papermill": {
     "duration": 0.215934,
     "end_time": "2022-03-31T11:20:54.414996",
     "exception": false,
     "start_time": "2022-03-31T11:20:54.199062",
     "status": "completed"
    },
    "tags": []
   },
   "outputs": [
    {
     "name": "stdout",
     "output_type": "stream",
     "text": [
      "RMSE TrainingData =  2.2179561884188926e-13\n",
      "RMSE TestData =  1.2988579657446682\n",
      "--------------------------------------------------\n",
      "RSquared value on train: 1.0\n",
      "RSquared value on test: 0.9998621910550605\n"
     ]
    }
   ],
   "source": [
    "RMSE_train=(np.sqrt(metrics.mean_squared_error(Y_train,train_preds)))\n",
    "RMSE_test=(np.sqrt(metrics.mean_squared_error(Y_test,test_preds)))\n",
    "print(\"RMSE TrainingData = \",str(RMSE_train))\n",
    "print(\"RMSE TestData = \",str(RMSE_test))\n",
    "print('-'*50)\n",
    "print('RSquared value on train:',DT.score(X_train, Y_train))\n",
    "print('RSquared value on test:',DT.score(X_test, Y_test))"
   ]
  },
  {
   "cell_type": "markdown",
   "id": "f9e8aa05",
   "metadata": {
    "papermill": {
     "duration": 0.119793,
     "end_time": "2022-03-31T11:21:57.519521",
     "exception": false,
     "start_time": "2022-03-31T11:21:57.399728",
     "status": "completed"
    },
    "tags": []
   },
   "source": [
    "# Classification Algorithms"
   ]
  },
  {
   "cell_type": "code",
   "execution_count": 59,
   "id": "6cc6411d",
   "metadata": {
    "execution": {
     "iopub.execute_input": "2022-03-31T11:21:57.759378Z",
     "iopub.status.busy": "2022-03-31T11:21:57.758687Z",
     "iopub.status.idle": "2022-03-31T11:21:57.762411Z",
     "shell.execute_reply": "2022-03-31T11:21:57.763042Z",
     "shell.execute_reply.started": "2022-03-31T11:13:18.117271Z"
    },
    "papermill": {
     "duration": 0.125585,
     "end_time": "2022-03-31T11:21:57.763215",
     "exception": false,
     "start_time": "2022-03-31T11:21:57.637630",
     "status": "completed"
    },
    "tags": []
   },
   "outputs": [],
   "source": [
    "from sklearn.linear_model import LogisticRegression\n",
    "from sklearn.tree import DecisionTreeClassifier\n",
    "from sklearn.ensemble import RandomForestClassifier\n",
    "from sklearn.neighbors import KNeighborsClassifier"
   ]
  },
  {
   "cell_type": "code",
   "execution_count": 60,
   "id": "d0c4fd42",
   "metadata": {
    "execution": {
     "iopub.execute_input": "2022-03-31T11:21:58.012707Z",
     "iopub.status.busy": "2022-03-31T11:21:58.011800Z",
     "iopub.status.idle": "2022-03-31T11:21:58.014967Z",
     "shell.execute_reply": "2022-03-31T11:21:58.014305Z",
     "shell.execute_reply.started": "2022-03-31T11:13:18.123592Z"
    },
    "papermill": {
     "duration": 0.132241,
     "end_time": "2022-03-31T11:21:58.015121",
     "exception": false,
     "start_time": "2022-03-31T11:21:57.882880",
     "status": "completed"
    },
    "tags": []
   },
   "outputs": [],
   "source": [
    "X2 = df[['SOi','Noi','Rpi','SPMi']]\n",
    "Y2 = df['AQI_Range']\n",
    "# Splitting the data into independent and dependent columns for classification "
   ]
  },
  {
   "cell_type": "code",
   "execution_count": 61,
   "id": "c50beb21",
   "metadata": {
    "execution": {
     "iopub.execute_input": "2022-03-31T11:21:58.256602Z",
     "iopub.status.busy": "2022-03-31T11:21:58.255930Z",
     "iopub.status.idle": "2022-03-31T11:21:58.331717Z",
     "shell.execute_reply": "2022-03-31T11:21:58.331140Z",
     "shell.execute_reply.started": "2022-03-31T11:13:18.141890Z"
    },
    "papermill": {
     "duration": 0.19769,
     "end_time": "2022-03-31T11:21:58.331871",
     "exception": false,
     "start_time": "2022-03-31T11:21:58.134181",
     "status": "completed"
    },
    "tags": []
   },
   "outputs": [],
   "source": [
    "X_train2, X_test2, Y_train2, Y_test2 = train_test_split(X2, Y2, test_size=0.33, random_state=70)\n",
    "# Splitting the data into training and testing data "
   ]
  },
  {
   "cell_type": "markdown",
   "id": "fd559db9",
   "metadata": {
    "papermill": {
     "duration": 0.121595,
     "end_time": "2022-03-31T11:22:22.984794",
     "exception": false,
     "start_time": "2022-03-31T11:22:22.863199",
     "status": "completed"
    },
    "tags": []
   },
   "source": [
    "### Decision Tree Classifier"
   ]
  },
  {
   "cell_type": "code",
   "execution_count": 1,
   "id": "9314d4a3",
   "metadata": {
    "execution": {
     "iopub.execute_input": "2022-03-31T11:22:23.233437Z",
     "iopub.status.busy": "2022-03-31T11:22:23.232725Z",
     "iopub.status.idle": "2022-03-31T11:22:26.052380Z",
     "shell.execute_reply": "2022-03-31T11:22:26.051661Z",
     "shell.execute_reply.started": "2022-03-31T11:13:40.890177Z"
    },
    "papermill": {
     "duration": 2.944727,
     "end_time": "2022-03-31T11:22:26.052550",
     "exception": false,
     "start_time": "2022-03-31T11:22:23.107823",
     "status": "completed"
    },
    "tags": []
   },
   "outputs": [
    {
     "ename": "NameError",
     "evalue": "name 'DecisionTreeClassifier' is not defined",
     "output_type": "error",
     "traceback": [
      "\u001b[1;31m---------------------------------------------------------------------------\u001b[0m",
      "\u001b[1;31mNameError\u001b[0m                                 Traceback (most recent call last)",
      "\u001b[1;32m~\\AppData\\Local\\Temp\\ipykernel_18520\\3398725761.py\u001b[0m in \u001b[0;36m<module>\u001b[1;34m\u001b[0m\n\u001b[0;32m      1\u001b[0m \u001b[1;31m#fit the model on train data\u001b[0m\u001b[1;33m\u001b[0m\u001b[1;33m\u001b[0m\u001b[0m\n\u001b[1;32m----> 2\u001b[1;33m \u001b[0mDT2\u001b[0m \u001b[1;33m=\u001b[0m \u001b[0mDecisionTreeClassifier\u001b[0m\u001b[1;33m(\u001b[0m\u001b[1;33m)\u001b[0m\u001b[1;33m.\u001b[0m\u001b[0mfit\u001b[0m\u001b[1;33m(\u001b[0m\u001b[0mX_train2\u001b[0m\u001b[1;33m,\u001b[0m\u001b[0mY_train2\u001b[0m\u001b[1;33m)\u001b[0m\u001b[1;33m\u001b[0m\u001b[1;33m\u001b[0m\u001b[0m\n\u001b[0m\u001b[0;32m      3\u001b[0m \u001b[1;33m\u001b[0m\u001b[0m\n\u001b[0;32m      4\u001b[0m \u001b[1;31m#predict on train\u001b[0m\u001b[1;33m\u001b[0m\u001b[1;33m\u001b[0m\u001b[0m\n\u001b[0;32m      5\u001b[0m \u001b[0mtrain_preds3\u001b[0m \u001b[1;33m=\u001b[0m \u001b[0mDT2\u001b[0m\u001b[1;33m.\u001b[0m\u001b[0mpredict\u001b[0m\u001b[1;33m(\u001b[0m\u001b[0mX_train2\u001b[0m\u001b[1;33m)\u001b[0m\u001b[1;33m\u001b[0m\u001b[1;33m\u001b[0m\u001b[0m\n",
      "\u001b[1;31mNameError\u001b[0m: name 'DecisionTreeClassifier' is not defined"
     ]
    }
   ],
   "source": [
    "#fit the model on train data \n",
    "DT2 = DecisionTreeClassifier().fit(X_train2,Y_train2)\n",
    "\n",
    "#predict on train \n",
    "train_preds3 = DT2.predict(X_train2)\n",
    "#accuracy on train\n",
    "print(\"Model accuracy on train is: \", accuracy_score(Y_train2, train_preds3))\n",
    "\n",
    "#predict on test\n",
    "test_preds3 = DT2.predict(X_test2)\n",
    "#accuracy on test\n",
    "print(\"Model accuracy on test is: \", accuracy_score(Y_test2, test_preds3))\n",
    "print('-'*50)\n",
    "\n",
    "# Kappa Score\n",
    "print('KappaScore is: ', metrics.cohen_kappa_score(Y_test2,test_preds3))"
   ]
  },
  {
   "cell_type": "code",
   "execution_count": null,
   "id": "f25c7d25",
   "metadata": {},
   "outputs": [],
   "source": []
  }
 ],
 "metadata": {
  "kernelspec": {
   "display_name": "Python 3 (ipykernel)",
   "language": "python",
   "name": "python3"
  },
  "language_info": {
   "codemirror_mode": {
    "name": "ipython",
    "version": 3
   },
   "file_extension": ".py",
   "mimetype": "text/x-python",
   "name": "python",
   "nbconvert_exporter": "python",
   "pygments_lexer": "ipython3",
   "version": "3.9.13"
  },
  "papermill": {
   "default_parameters": {},
   "duration": 254.938724,
   "end_time": "2022-03-31T11:23:17.730970",
   "environment_variables": {},
   "exception": null,
   "input_path": "__notebook__.ipynb",
   "output_path": "__notebook__.ipynb",
   "parameters": {},
   "start_time": "2022-03-31T11:19:02.792246",
   "version": "2.3.3"
  }
 },
 "nbformat": 4,
 "nbformat_minor": 5
}
